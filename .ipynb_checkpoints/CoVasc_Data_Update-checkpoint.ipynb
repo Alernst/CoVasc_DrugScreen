{
 "cells": [
  {
   "cell_type": "markdown",
   "id": "55bb478c-64f5-40aa-a91f-6da616dd90a3",
   "metadata": {},
   "source": [
    "# Screening for side effects of Covid-19 drug candidates on cardiovascular development \n",
    "\n",
    "# Analysis notebook\n"
   ]
  },
  {
   "cell_type": "code",
   "execution_count": 6,
   "id": "0a622191-2b33-4856-956b-e88cec65e7ae",
   "metadata": {},
   "outputs": [
    {
     "ename": "ModuleNotFoundError",
     "evalue": "No module named 'functions'",
     "output_type": "error",
     "traceback": [
      "\u001b[1;31m---------------------------------------------------------------------------\u001b[0m",
      "\u001b[1;31mModuleNotFoundError\u001b[0m                       Traceback (most recent call last)",
      "\u001b[1;32m~\\AppData\\Local\\Temp/ipykernel_26604/1878761468.py\u001b[0m in \u001b[0;36m<module>\u001b[1;34m\u001b[0m\n\u001b[0;32m      5\u001b[0m \u001b[1;33m\u001b[0m\u001b[0m\n\u001b[0;32m      6\u001b[0m \u001b[1;32mfrom\u001b[0m \u001b[0mglob\u001b[0m \u001b[1;32mimport\u001b[0m \u001b[0mglob\u001b[0m\u001b[1;33m\u001b[0m\u001b[1;33m\u001b[0m\u001b[0m\n\u001b[1;32m----> 7\u001b[1;33m \u001b[1;32mfrom\u001b[0m \u001b[0mfunctions\u001b[0m \u001b[1;32mimport\u001b[0m \u001b[0manalysis\u001b[0m \u001b[1;32mas\u001b[0m \u001b[0mana\u001b[0m\u001b[1;33m\u001b[0m\u001b[1;33m\u001b[0m\u001b[0m\n\u001b[0m\u001b[0;32m      8\u001b[0m \u001b[1;32mfrom\u001b[0m \u001b[0mfunctions\u001b[0m\u001b[1;33m.\u001b[0m\u001b[0mliterature_search\u001b[0m \u001b[1;32mimport\u001b[0m \u001b[0msearchPubmed\u001b[0m\u001b[1;33m\u001b[0m\u001b[1;33m\u001b[0m\u001b[0m\n\u001b[0;32m      9\u001b[0m \u001b[1;32mfrom\u001b[0m \u001b[0mfunctions\u001b[0m\u001b[1;33m.\u001b[0m\u001b[0manalysis\u001b[0m \u001b[1;32mimport\u001b[0m \u001b[0mjoined_find\u001b[0m\u001b[1;33m\u001b[0m\u001b[1;33m\u001b[0m\u001b[0m\n",
      "\u001b[1;31mModuleNotFoundError\u001b[0m: No module named 'functions'"
     ]
    }
   ],
   "source": [
    "\n",
    "import os\n",
    "from glob import glob\n",
    "import pandas as pd\n",
    "import numpy as np\n",
    "\n",
    "from glob import glob\n",
    "from functions import analysis as ana\n",
    "from functions.literature_search import searchPubmed\n",
    "from functions.analysis import joined_find\n",
    "import seaborn as sns\n",
    "import matplotlib.pyplot as plt\n",
    "import itertools\n",
    "from importlib import reload\n",
    "from functions.literature_search import find_intersection\n",
    "\n",
    "import math\n",
    "import datetime"
   ]
  },
  {
   "cell_type": "code",
   "execution_count": 5,
   "id": "54f0e44d-78e1-44fa-9598-4f8e89cf408e",
   "metadata": {},
   "outputs": [],
   "source": [
    "# Uncomment below if functions are not loaded\n",
    "import sys\n",
    "sys.path.append(\"./functions/analysis.py\")"
   ]
  },
  {
   "cell_type": "markdown",
   "id": "61d47dcb-216c-4abb-bb82-c1c3ac91a42a",
   "metadata": {},
   "source": [
    "# Pubmed search "
   ]
  },
  {
   "cell_type": "code",
   "execution_count": null,
   "id": "7b4bc443-8298-4628-9e79-ea61b82f089b",
   "metadata": {},
   "outputs": [],
   "source": [
    "# Uncomment to execute literature search\n",
    "#drug_list = list(pd.read_excel(\"./tables/LiteratureSearch_Druglist.xlsx\")[\"MODIFIED_NAME\"])\n",
    "#instance = searchPubmed(\"alexander.ernst@unibe.ch\", drug_list, api_key=\"05b06f8adeace65e91dca5a0fac7d6ba330a\")\n",
    "#df_literature = instance.multiple_context_search()[0]\n",
    "#df_intersect = find_intersection(df_literature)"
   ]
  },
  {
   "cell_type": "code",
   "execution_count": null,
   "id": "dd735979-206c-4d6e-a11b-3ec058c4ca50",
   "metadata": {},
   "outputs": [],
   "source": [
    "# Get all the results from the Morphology assay\n",
    "<b>Execute only if you have new data\n",
    "\n",
    "Explanation:\n",
    "    \n",
    "One folder per experiment, the folders are identified by keywords which are referred to in the code to find the target content. \n",
    "\n",
    "Each folder has an \"ExpID\" at the end and contains 3 image folders, \"Measurements\"-folder and a \"_PlateDescription.xlsx\".\n",
    "\n",
    "The images of one experiment are as tif files in 3 folders,     #1. 2x , #2. 4x and #3. 10x\n",
    "\n",
    "Inside of the \"Measurements\"-folder are 4 tables \"_HeartUnet_analysis\",\"_ISVUnetAnalysis\", \"Summary_measurements\", \"Summary_heart\" containing the analysis of the experiment.\n",
    "\n",
    "The next cell loads all of them and accesses the \"_10x\" heartbeat movies to perform a frame rate correction on the heart beat counts. In this way alterations of the acquisition speed are corrected.\n",
    "\n",
    "Afterwards the measurements are calibrated to \"physical\" units."
   ]
  },
  {
   "cell_type": "code",
   "execution_count": null,
   "id": "9dc4fd74-f0d8-4386-99d3-072a35862808",
   "metadata": {},
   "outputs": [],
   "source": [
    "#enter the path to the acquifer data folder\n",
    "acquifer_folder = \"E:/Data_Drug_Screening_CovidBox/Acquifer\"\n",
    "\n",
    "directory = os.listdir(acquifer_folder)\n",
    "\n",
    "for c, folders in enumerate(directory):\n",
    "    print(folders)\n",
    "    if \"_ExpID\" in folders:\n",
    "        \n",
    "        expid = folders.split(\"_ExpID\")[1]\n",
    "        measurements_heart_path = joined_find(acquifer_folder, folders, \"heart\")\n",
    "        measurements_size_path = joined_find(acquifer_folder, folders, \"Summary_measurements\")\n",
    "        measurements_HeartSeg_path = joined_find(acquifer_folder, folders, \"Table_HeartUnetAnalysis\", file_type = \".csv\")\n",
    "        measurements_ISVSef_path = joined_find(acquifer_folder, folders, \"Table_ISVUnetAnalysis\", file_type = \".csv\")\n",
    "        frame_heart_path = joined_find(acquifer_folder, folders, folder_measurements = \"\",keyword = \"BF_550_10x\", file_type = \"\")\n",
    "        plate_map_path = joined_find(acquifer_folder, folders, folder_measurements = \"\",keyword = \"_PlateDescription\", file_type = \".xlsx\")\n",
    "        \n",
    "        try:\n",
    "            df_platemap = pd.read_excel(plate_map_path[0])\n",
    "            dict_platemap = df_platemap.to_dict()\n",
    "            \n",
    "            \n",
    "            df_heart = pd.read_excel(measurements_heart_path[0]).rename(columns= {\"Hearbeat\":\"Heartbeats\",\"Heartbeat\":\"Heartbeats\",\"Hearbeats\":\"Heartbeats\"}) \n",
    "            df_heart[\"Well\"] = df_heart[\"Label\"].str.split(\"--\",expand=True)[0].str.replace(\"-\",\"\")\n",
    "            exception = \"E:\\Data_Drug_Screening_CovidBox/Acquifer/20201203_drug_screen_FliV_myl7mR_1C02_1C10_ExpID20/20201203_drug_screen_FliV_myl7mR_1C11_ExpID20.1/20201203_FV_M7R_1C11_1Co3_BF_550_10x\"\n",
    "            \n",
    "            frametime = list(df_heart[\"Well\"].apply(lambda x: ana.get_well_framerate(path = frame_heart_path[0] , well = x) if not x.startswith(\"2\") else ana.get_well_framerate(path = exception , well = x.split(\"2\", 1)[1])))\n",
    "            \n",
    "            df_heart[\"Avg_Frametime (ms)\"] = [i[0] for i in frametime]\n",
    "            df_heart[\"Sum_Frametime (ms)\"] = [i[1] for i in frametime]\n",
    "            \n",
    "            df_size = pd.read_excel(measurements_size_path[0])\n",
    "            #*3.250\n",
    "            if not \"Well\" in df_size.columns:\n",
    "                df_size[\"Well\"] = df_size[\"Image_title\"].str.split(\":-\",expand=True)[1].str.split(\"--PO\",expand=True)[0]\n",
    "            \n",
    "            df_heart_seg = pd.read_csv(measurements_HeartSeg_path[0])\n",
    "            df_ISV_seg = pd.read_csv(measurements_ISVSef_path[0])         \n",
    "\n",
    "                \n",
    "            df_heart_size = pd.merge(left = df_size,right = df_heart, on = \"Well\").drop([\"Image_title_y\",\"Image_title_x\"],axis=1)\n",
    "            df_heart_size = pd.merge(left = df_heart_size,right = df_heart_seg, on = \"Well\")\n",
    "            df_heart_size = pd.merge(left = df_heart_size,right = df_ISV_seg, on = \"Well\")\n",
    "            df_heart_size[\"Experiment ID\"] = expid \n",
    "            df_heart_size[\"Concentration\"] = df_heart_size[\"Well\"].apply(ana.assign_compounds, dict_compound=dict_platemap) \n",
    "            \n",
    "        except  Exception as e:\n",
    "            print(\"An {} error occurred in: {}\".format(e,folders))\n",
    "            break\n",
    "    \n",
    "    if c == 0:\n",
    "        df_collection = df_heart_size.copy()\n",
    "        \n",
    "    else:\n",
    "        df_collection = pd.concat([df_collection,df_heart_size],axis=0)\n",
    "        \n",
    "        \n",
    "list_todrop = list(filter(lambda x: x.startswith(\"Unnamed\") | x.endswith(\"_y\"), df_collection.columns)) + [\"Hearbeat\",\"Heartbeat\"]\n",
    "df_collection = df_collection.drop(list_todrop, axis=1)\n",
    "\n",
    "df_collection = df_collection.rename(columns={\"Delta_DIA-SYS\":\"Ejection fraction (%)\",\"Length\": \"Body length (µm)\",\"Heartbeats\":\"Heart Beats (Count)\",\"Slices\":\"Frames (Count)\",'Median_minor_axis_length':'ISV width (µm)','Median_major_axis_length':'ISV length (µm)','N_ISV':'Number ISV (Count)'})\n",
    "\n",
    "df_collection[\"Drug\"] = df_collection.Concentration.str.split(\"__c\", expand=True)[0]\n",
    "df_collection[\"TRIVIAL_NAME\"] = df_collection[\"Drug\"].str.split(\"_\",expand = True)[0]\n",
    "df_collection = df_collection.set_index(\"Drug\")\n",
    "df_collection[\"Concentration (µM)\"] = df_collection.Concentration.str.split(\"_c\", expand=True)[1].astype(float)\n",
    "df_collection[\"Concentration (µM)\"].loc[np.isnan(df_collection[\"Concentration (µM)\"])] = 1.0\n",
    "df_collection[\"Body length (µm)\"] = df_collection[\"Body length (µm)\"] * 3.25\n",
    "df_collection[\"Heart Rate (BPM)\"] = (df_collection[\"Heart Beats (Count)\"] * 60000) / (df_collection[\"Avg_Frametime (ms)\"]* df_collection[\"Frames (Count)\"])\n",
    "df_collection[\"Ejection fraction (%)\"] = df_collection[\"Ejection fraction (%)\"] * 100\n",
    "\n",
    "df_collection[\"ISV length (µm)\"] = df_collection[\"ISV length (µm)\"] * 1.625\n",
    "df_collection[\"ISV width (µm)\"] = df_collection[\"ISV width (µm)\"] * 1.625\n",
    "df_collection[\"ISV area (µm^2)\"] = df_collection[\"ISV length (µm)\"] * df_collection[\"ISV width (µm)\"] \n",
    "df_collection[\"Repeat\"] = df_collection[\"Experiment ID\"]\n",
    "#df_collection = df_collection[df_collection[\"Ejection fraction (%)\"]<60]\n",
    "df_collection[\"Ejection fraction (%)\"].loc[df_collection[\"Ejection fraction (%)\"] > 60] = np.nan\n",
    "df_collection = df_collection.drop([\"Concentration\", \"Drug_x\"],axis=1)"
   ]
  },
  {
   "cell_type": "code",
   "execution_count": null,
   "id": "711d64a6-1c35-4009-9308-8bbea9367bc4",
   "metadata": {},
   "outputs": [],
   "source": [
    "# Uncomment to  save the table\n",
    "#df_collection.to_excel(\"./tables/{}_Morphology_Assay_Collected_Measurements.xlsx\".format(datetime.date.today()))"
   ]
  },
  {
   "cell_type": "markdown",
   "id": "c206d795-2682-4651-877b-36f67c352e9d",
   "metadata": {},
   "source": [
    "# Get all the results from the Behavior assay"
   ]
  },
  {
   "cell_type": "code",
   "execution_count": null,
   "id": "37bc1e12-54c0-4a81-afcf-ed49e0da6789",
   "metadata": {},
   "outputs": [],
   "source": [
    "dv_folder = \"E:/Data_Drug_Screening_CovidBox/DanioVision\"\n",
    "directory = os.listdir(dv_folder)\n",
    "df_program = pd.read_excel(\"E:/Data_Drug_Screening_CovidBox/DanioVision/20210115_A03_A11_ExpID0/150121_CoVasc_1min_bin_Bright_Dark_scheme.xlsx\")\n",
    "dict_program_melt = df_program.set_index(\"Bin\").melt(var_name=\"Bin\",value_name=\"Phase\").set_index(\"Bin\").to_dict()[\"Phase\"]\n",
    "\n",
    "for c, folders in enumerate(directory):\n",
    "    #print(folders)\n",
    "    if \"_ExpID\" in folders:\n",
    "        \n",
    "        expid = folders.split(\"_ExpID\")[1]\n",
    "        bin1_path = joined_find(dv_folder, folders, folder_measurements = \"\",keyword = \"CoVasc_*1min*\", file_type = \".xlsx\",exclude=True)[0]\n",
    "        filtered_path = list(filter(lambda x: \"scheme\" not in x ,bin1_path))\n",
    "        map_path = joined_find(dv_folder, folders, folder_measurements = \"\",keyword = \"_PlateMap\", file_type = \".xlsx\",exclude=True)[0]\n",
    "        \n",
    "        df_platemap = pd.read_excel(map_path)\n",
    "        dict_platemap = df_platemap.dropna(axis=1).to_dict()\n",
    "        df_bin1 = pd.read_excel(bin1_path, header = [0,1,2,3])\n",
    "        \n",
    "        df_bin1.columns = ['Trial', 'Well', 'Bin [1 sec]', 'Distance_moved [mm]', 'Velocity [mm/s]', 'Moving [s]','Not_Moving [s]']\n",
    "\n",
    "        df_bin1[\"Phase\"] = df_bin1[\"Bin [1 sec]\"].apply(ana.assign_phase, dict_program_clean=dict_program_melt)\n",
    "        df_bin1[\"Drug\"] = df_bin1[\"Well\"].apply(ana.assign_compounds, dict_compound=dict_platemap)\n",
    "        \n",
    "        check = list(filter(lambda x: \"_c\" in x ,list(df_bin1[\"Drug\"])))\n",
    "        \n",
    "        if check:\n",
    "            df_bin1[\"Concentration (µM)\"] = df_bin1[\"Drug\"].str.split(\"_c\", expand=True)[1].astype(float)\n",
    "            df_bin1[\"Concentration (µM)\"].loc[np.isnan(df_bin1[\"Concentration (µM)\"])] = 1.0\n",
    "        else:\n",
    "            df_bin1[\"Concentration (µM)\"] = 1.\n",
    "        \n",
    "        df_bin1[\"Drug\"] = df_bin1[\"Drug\"].str.split(\"__c\",expand=True)[0]    \n",
    "        df_bin1[\"Experiment ID\"] = expid\n",
    "        df_bin1 = df_bin1.loc[df_bin1[\"Phase\"] != \"Remove\"]\n",
    "        df_bin1 = df_bin1.loc[df_bin1[\"Drug\"] != \"Blank\"]\n",
    "        \n",
    "        \n",
    "        df_bin1_plot = df_bin1.groupby([\"Experiment ID\",\"Drug\",\"Concentration (µM)\",\"Bin [1 sec]\"]).mean()\n",
    "        df_bin1_phasemedian = df_bin1.groupby([\"Experiment ID\",\"Drug\",\"Concentration (µM)\",\"Well\",\"Phase\"]).median()\n",
    "        \n",
    "        \n",
    "        if c==0:\n",
    "            df_collect_lineplot = df_bin1_plot.copy()\n",
    "            df_collect_phasemedian = df_bin1_phasemedian.copy()\n",
    "        else:\n",
    "            df_collect_lineplot = pd.concat([df_collect_lineplot, df_bin1_plot],axis=0)\n",
    "            df_collect_phasemedian = pd.concat([df_collect_phasemedian, df_bin1_phasemedian],axis=0)\n",
    "        print(map_path)\n",
    "        #if expid == \"17\":\n",
    "        #    break\n",
    "        "
   ]
  }
 ],
 "metadata": {
  "kernelspec": {
   "display_name": "Python 3 (ipykernel)",
   "language": "python",
   "name": "python3"
  },
  "language_info": {
   "codemirror_mode": {
    "name": "ipython",
    "version": 3
   },
   "file_extension": ".py",
   "mimetype": "text/x-python",
   "name": "python",
   "nbconvert_exporter": "python",
   "pygments_lexer": "ipython3",
   "version": "3.9.6"
  }
 },
 "nbformat": 4,
 "nbformat_minor": 5
}
