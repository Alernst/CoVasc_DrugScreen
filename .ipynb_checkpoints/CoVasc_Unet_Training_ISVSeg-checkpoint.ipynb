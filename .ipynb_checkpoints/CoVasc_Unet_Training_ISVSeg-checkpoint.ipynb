{
 "cells": [
  {
   "cell_type": "code",
   "execution_count": 63,
   "metadata": {
    "id": "ihsd2I6QS8Ga"
   },
   "outputs": [],
   "source": [
    "from skimage.io import imread, imshow, concatenate_images\n",
    "from math import sqrt\n",
    "\n",
    "from skimage.feature import blob_dog, blob_log, blob_doh\n",
    "from skimage.color import rgb2gray\n",
    "from skimage import color\n",
    "from skimage.transform import resize\n",
    "from skimage.morphology import label\n",
    "from sklearn.model_selection import train_test_split\n",
    "from skimage.exposure import equalize_adapthist\n",
    "import skimage\n",
    "import tensorflow as tf\n",
    "\n",
    "\n",
    "import os\n",
    "import random\n",
    "import pandas as pd\n",
    "from itertools import chain\n",
    "from tqdm import tqdm_notebook, tnrange\n",
    "from tqdm import notebook\n",
    "import numpy as np\n",
    "# h5py to read the data-set\n",
    "import h5py\n",
    "# matplotlob for plotting\n",
    "import matplotlib.pyplot as plt\n",
    "# tensorboard\n",
    "from keras.callbacks import TensorBoard\n",
    "\n",
    "import tensorflow as tf\n",
    "\n",
    "from keras.models import Model, load_model\n",
    "from keras.layers import Input, BatchNormalization, Activation, Dense, Dropout\n",
    "from keras.layers.core import Lambda, RepeatVector, Reshape\n",
    "from keras.layers.convolutional import Conv2D, Conv2DTranspose,UpSampling2D, Conv3D\n",
    "from keras.layers.pooling import MaxPooling2D, GlobalMaxPool2D\n",
    "from keras.layers.merge import concatenate, add\n",
    "from keras.callbacks import EarlyStopping, ModelCheckpoint, ReduceLROnPlateau\n",
    "from keras.optimizers import Adam\n",
    "from keras import backend as K\n",
    "from keras.preprocessing.image import ImageDataGenerator, array_to_img, img_to_array, load_img\n",
    "from keras.preprocessing.image import ImageDataGenerator\n",
    "from livelossplot import PlotLossesKeras"
   ]
  },
  {
   "cell_type": "code",
   "execution_count": 49,
   "metadata": {},
   "outputs": [],
   "source": [
    "path_training = \"D:/AlexanderErnst/DeepLearning_ISV/Data/\"\n",
    "\n",
    "listImages=os.listdir(path_training+\"/Images\")"
   ]
  },
  {
   "cell_type": "code",
   "execution_count": 50,
   "metadata": {},
   "outputs": [],
   "source": [
    "def data_collect(path_train,final_size,rgb=False,rotate=False):\n",
    "    \n",
    "        \n",
    "    listImages=os.listdir(path_train+\"/Images\")\n",
    "    print(listImages)\n",
    "    \n",
    "    n_samples=len(listImages)\n",
    "    X = np.zeros((n_samples*3, final_size, final_size), dtype=np.float32)\n",
    "    y = np.zeros((n_samples*3, final_size, final_size), dtype=np.float32)\n",
    "    \n",
    "    count=0\n",
    "    for i in listImages:\n",
    "        img=imread(path_train+\"Images/\"+i)\n",
    "        \n",
    "        \n",
    "        \n",
    "        \n",
    "        image_downscaled=skimage.transform.resize(img, (final_size, final_size),anti_aliasing=False).astype(np.float32)\n",
    "        image_downscaled_gaussian=skimage.filters.gaussian(img).astype(np.float32)\n",
    "        image_downscaled_unsharpmask=skimage.filters.unsharp_mask(img).astype(np.float32)\n",
    "        listMask=os.listdir(path_train+\"/Annotations\")\n",
    "        msk=imread(path_train+\"Annotations/\"+i)\n",
    "        \n",
    "        mask_downscaled=skimage.transform.resize(msk, (final_size, final_size),anti_aliasing=False).astype(np.float32)\n",
    "        \n",
    "        print(image_downscaled.shape)\n",
    "        print(mask_downscaled.shape)\n",
    "        X[count,:,:]=image_downscaled\n",
    "        y[count,:,:]=mask_downscaled\n",
    "\n",
    "        count+=1\n",
    "        X[count,:,:]=image_downscaled_gaussian\n",
    "        y[count,:,:]=mask_downscaled\n",
    "        \n",
    "        count+=1\n",
    "        X[count,:,:]=image_downscaled_unsharpmask\n",
    "        y[count,:,:]=mask_downscaled\n",
    "        \n",
    "        count+=1\n",
    "        print(count)\n",
    "    return X,y\n",
    "        \n",
    "    "
   ]
  },
  {
   "cell_type": "code",
   "execution_count": 10,
   "metadata": {},
   "outputs": [],
   "source": [
    "?skimage.filters.gaussian"
   ]
  },
  {
   "cell_type": "code",
   "execution_count": 52,
   "metadata": {},
   "outputs": [
    {
     "name": "stdout",
     "output_type": "stream",
     "text": [
      "['MAX_201203155726_20201203_drug_screen_B02_B11_4x_A002.tif', 'MAX_201203155726_20201203_drug_screen_B02_B11_4x_B001.tif', 'MAX_201203155726_20201203_drug_screen_B02_B11_4x_B008.tif', 'MAX_201203155726_20201203_drug_screen_B02_B11_4x_B009.tif', 'MAX_201203155726_20201203_drug_screen_B02_B11_4x_B011.tif', 'MAX_201203155726_20201203_drug_screen_B02_B11_4x_C001.tif', 'MAX_201203155726_20201203_drug_screen_B02_B11_4x_C006.tif', 'MAX_201203155726_20201203_drug_screen_B02_B11_4x_D012.tif', 'MAX_201203155726_20201203_drug_screen_B02_B11_4x_E002.tif', 'MAX_201203155726_20201203_drug_screen_B02_B11_4x_F008.tif', 'MAX_201203155726_20201203_drug_screen_B02_B11_4x_G004.tif', 'MAX_201203155726_20201203_drug_screen_B02_B11_4x_G005.tif', 'MAX_201203155726_20201203_drug_screen_B02_B11_4x_H001.tif', 'MAX_201203155726_20201203_drug_screen_B02_B11_4x_H010.tif', 'MAX_201217153949_20201218_drugscreen__FliV_Myl7mR_D02_D11_4x_BF_470_A001.tif', 'MAX_201217153949_20201218_drugscreen__FliV_Myl7mR_D02_D11_4x_BF_470_A002.tif', 'MAX_201217153949_20201218_drugscreen__FliV_Myl7mR_D02_D11_4x_BF_470_A003.tif', 'MAX_201217153949_20201218_drugscreen__FliV_Myl7mR_D02_D11_4x_BF_470_A012.tif', 'MAX_201217153949_20201218_drugscreen__FliV_Myl7mR_D02_D11_4x_BF_470_B001.tif', 'MAX_201217153949_20201218_drugscreen__FliV_Myl7mR_D02_D11_4x_BF_470_B002.tif', 'MAX_201217153949_20201218_drugscreen__FliV_Myl7mR_D02_D11_4x_BF_470_B006.tif', 'MAX_201217153949_20201218_drugscreen__FliV_Myl7mR_D02_D11_4x_BF_470_C001.tif', 'MAX_201217153949_20201218_drugscreen__FliV_Myl7mR_D02_D11_4x_BF_470_C002.tif', 'MAX_201217153949_20201218_drugscreen__FliV_Myl7mR_D02_D11_4x_BF_470_C003.tif', 'MAX_201217153949_20201218_drugscreen__FliV_Myl7mR_D02_D11_4x_BF_470_C005.tif', 'MAX_201217153949_20201218_drugscreen__FliV_Myl7mR_D02_D11_4x_BF_470_G001.tif', 'MAX_201217153949_20201218_drugscreen__FliV_Myl7mR_D02_D11_4x_BF_470_G004.tif', 'MAX_201217153949_20201218_drugscreen__FliV_Myl7mR_D02_D11_4x_BF_470_H004.tif', 'MAX_201217153949_20201218_drugscreen__FliV_Myl7mR_D02_D11_4x_BF_470_H007.tif', 'MAX_201217153949_20201218_drugscreen__FliV_Myl7mR_D02_D11_4x_BF_470_H012.tif']\n",
      "(2048, 2048)\n",
      "(2048, 2048)\n",
      "3\n",
      "(2048, 2048)\n",
      "(2048, 2048)\n",
      "6\n",
      "(2048, 2048)\n",
      "(2048, 2048)\n",
      "9\n",
      "(2048, 2048)\n",
      "(2048, 2048)\n",
      "12\n",
      "(2048, 2048)\n",
      "(2048, 2048)\n",
      "15\n",
      "(2048, 2048)\n",
      "(2048, 2048)\n",
      "18\n",
      "(2048, 2048)\n",
      "(2048, 2048)\n",
      "21\n",
      "(2048, 2048)\n",
      "(2048, 2048)\n",
      "24\n",
      "(2048, 2048)\n",
      "(2048, 2048)\n",
      "27\n",
      "(2048, 2048)\n",
      "(2048, 2048)\n",
      "30\n",
      "(2048, 2048)\n",
      "(2048, 2048)\n",
      "33\n",
      "(2048, 2048)\n",
      "(2048, 2048)\n",
      "36\n",
      "(2048, 2048)\n",
      "(2048, 2048)\n",
      "39\n",
      "(2048, 2048)\n",
      "(2048, 2048)\n",
      "42\n",
      "(2048, 2048)\n",
      "(2048, 2048)\n",
      "45\n",
      "(2048, 2048)\n",
      "(2048, 2048)\n",
      "48\n",
      "(2048, 2048)\n",
      "(2048, 2048)\n",
      "51\n",
      "(2048, 2048)\n",
      "(2048, 2048)\n",
      "54\n",
      "(2048, 2048)\n",
      "(2048, 2048)\n",
      "57\n",
      "(2048, 2048)\n",
      "(2048, 2048)\n",
      "60\n",
      "(2048, 2048)\n",
      "(2048, 2048)\n",
      "63\n",
      "(2048, 2048)\n",
      "(2048, 2048)\n",
      "66\n",
      "(2048, 2048)\n",
      "(2048, 2048)\n",
      "69\n",
      "(2048, 2048)\n",
      "(2048, 2048)\n",
      "72\n",
      "(2048, 2048)\n",
      "(2048, 2048)\n",
      "75\n",
      "(2048, 2048)\n",
      "(2048, 2048)\n",
      "78\n",
      "(2048, 2048)\n",
      "(2048, 2048)\n",
      "81\n",
      "(2048, 2048)\n",
      "(2048, 2048)\n",
      "84\n",
      "(2048, 2048)\n",
      "(2048, 2048)\n",
      "87\n",
      "(2048, 2048)\n",
      "(2048, 2048)\n",
      "90\n"
     ]
    }
   ],
   "source": [
    "train_data,train_labels=data_collect(path_training,2048)"
   ]
  },
  {
   "cell_type": "code",
   "execution_count": null,
   "metadata": {
    "id": "HxZ5FCjDY5Zr"
   },
   "outputs": [],
   "source": [
    "# Set some parameters\n",
    "im_width = 1024\n",
    "im_height = 1024\n",
    "stack_size = 34\n",
    "stack_offset = 0\n",
    "border = 5\n",
    "path_train = \"F:/For_DeepLearning/Data/Train/\"\n",
    "path_val = \"F:/For_DeepLearning/Data/Test/\"\n",
    "#path_test = 'data/Test_masks/'\n",
    ".squeeze()"
   ]
  },
  {
   "cell_type": "code",
   "execution_count": 64,
   "metadata": {},
   "outputs": [
    {
     "data": {
      "text/plain": [
       "(90, 2048, 2048)"
      ]
     },
     "execution_count": 64,
     "metadata": {},
     "output_type": "execute_result"
    }
   ],
   "source": [
    "train_data.shape"
   ]
  },
  {
   "cell_type": "code",
   "execution_count": 16,
   "metadata": {
    "colab": {
     "base_uri": "https://localhost:8080/",
     "height": 728
    },
    "id": "iZlVjPpeZbks",
    "outputId": "8fee870f-f7a8-4dee-bb6f-c4ad633d0088"
   },
   "outputs": [
    {
     "data": {
      "image/png": "[encoded data removed]",
      "text/plain": [
       "<Figure size 720x720 with 7 Axes>"
      ]
     },
     "metadata": {
      "needs_background": "light"
     },
     "output_type": "display_data"
    }
   ],
   "source": [
    "fig = plt.figure(figsize=(10, 10))\n",
    "plt.subplot(221)\n",
    "imshow(train_data[1,:,:], cmap=plt.get_cmap('gray'))\n",
    "plt.subplot(222)\n",
    "imshow(train_labels[1, :, :], cmap=plt.get_cmap('gray'))\n",
    "plt.subplot(223)\n",
    "imshow(train_data[1, :, :], cmap=plt.get_cmap('gray'))\n",
    "plt.subplot(224)\n",
    "imshow(train_labels[1, :, :], cmap=plt.get_cmap('gray'))\n",
    "# show the plot\n",
    "plt.show()"
   ]
  },
  {
   "cell_type": "code",
   "execution_count": 67,
   "metadata": {
    "id": "xjkBU1u_a-cV"
   },
   "outputs": [],
   "source": [
    "#Each block of sehnet architecture consist of two Convolution layers\n",
    "# These two layers are written in a function to make our code clean\n",
    "def conv2d_block(input_tensor, n_filters, kernel_size=3,n_convnet=2, batchnorm=True):\n",
    "    # first layer\n",
    "    x = Conv2D(filters=n_filters, kernel_size=(kernel_size, kernel_size), kernel_initializer=\"he_normal\",\n",
    "               padding=\"same\")(input_tensor)\n",
    "    if batchnorm:\n",
    "        x = BatchNormalization()(x)\n",
    "    x = Activation(\"relu\")(x)\n",
    "    # second layer\n",
    "    x = Conv2D(filters=n_filters, kernel_size=(kernel_size, kernel_size), kernel_initializer=\"he_normal\",\n",
    "               padding=\"same\")(x)\n",
    "    if batchnorm:\n",
    "        x = BatchNormalization()(x)\n",
    "    x = Activation(\"relu\")(x)\n",
    "    if n_convnet>2:\n",
    "        # second layer\n",
    "        x = Conv2D(filters=n_filters, kernel_size=(kernel_size, kernel_size), kernel_initializer=\"he_normal\",\n",
    "               padding=\"same\")(x)\n",
    "        if batchnorm:\n",
    "            x = BatchNormalization()(x)\n",
    "        x = Activation(\"relu\")(x)\n",
    "    return x"
   ]
  },
  {
   "cell_type": "code",
   "execution_count": 68,
   "metadata": {
    "id": "NUZvjkLtbCDn"
   },
   "outputs": [],
   "source": [
    "# The u-net architecture consists of contracting and expansive paths which\n",
    "# shrink and expands the inout image respectivly. \n",
    "# Output image have the same size of input image\n",
    "def get_unet(input_img, n_filters, batchnorm=True):\n",
    "    # contracting path\n",
    "    c1 = conv2d_block(input_img, n_filters=n_filters*4, kernel_size=3) #The first block of U-net\n",
    "    p1 = MaxPooling2D((2, 2)) (c1)\n",
    "\n",
    "    c2 = conv2d_block(p1, n_filters=n_filters*8, kernel_size=3)\n",
    "    p2 = MaxPooling2D((2, 2)) (c2)\n",
    "\n",
    "    c3 = conv2d_block(p2, n_filters=n_filters*16, kernel_size=3)\n",
    "    p3 = MaxPooling2D((2, 2)) (c3)\n",
    "\n",
    "    c4 = conv2d_block(p3, n_filters=n_filters*32, kernel_size=3)\n",
    "    p4 = MaxPooling2D(pool_size=(2, 2)) (c4)\n",
    "    \n",
    "    c5 = conv2d_block(p4, n_filters=n_filters*64, kernel_size=3)\n",
    "    \n",
    "    # expansive path\n",
    "    u6 = Conv2DTranspose(n_filters*32, (3, 3), strides=(2, 2), padding='same') (c5)\n",
    "    u6 = concatenate([u6, c4])\n",
    "    c6 = conv2d_block(u6, n_filters=n_filters*32, kernel_size=3)\n",
    "\n",
    "    u7 = Conv2DTranspose(n_filters*16, (3, 3), strides=(2, 2), padding='same') (c6)\n",
    "    u7 = concatenate([u7, c3])\n",
    "    c7 = conv2d_block(u7, n_filters=n_filters*16, kernel_size=3)\n",
    "\n",
    "    u8 = Conv2DTranspose(n_filters*8, (3, 3), strides=(2, 2), padding='same') (c7)\n",
    "    u8 = concatenate([u8, c2])\n",
    "    c8 = conv2d_block(u8, n_filters=n_filters*8, kernel_size=3)\n",
    "\n",
    "    u9 = Conv2DTranspose(n_filters*4, (3, 3), strides=(2, 2), padding='same') (c8)\n",
    "    u9 = concatenate([u9, c1], axis=3)\n",
    "    c9 = conv2d_block(u9, n_filters=n_filters*4, kernel_size=3)\n",
    "    \n",
    "    outputs = Conv2D(1, (1, 1), activation='sigmoid') (c9)\n",
    "    model = Model(inputs=[input_img], outputs=[outputs])\n",
    "    return model"
   ]
  },
  {
   "cell_type": "code",
   "execution_count": 69,
   "metadata": {
    "id": "-aiKYKQ2cNGJ"
   },
   "outputs": [],
   "source": [
    "def dice_coefficient(y_true, y_pred):\n",
    "    eps = 1e-6\n",
    "    y_true_f = K.flatten(y_true)\n",
    "    y_pred_f = K.flatten(y_pred)\n",
    "    intersection = K.sum(y_true_f * y_pred_f)\n",
    "    return (2. * intersection) / (K.sum(y_true_f * y_true_f) + K.sum(y_pred_f * y_pred_f) + eps)"
   ]
  },
  {
   "cell_type": "code",
   "execution_count": 73,
   "metadata": {
    "colab": {
     "base_uri": "https://localhost:8080/"
    },
    "id": "7t5pWPCDcP4I",
    "outputId": "0895bd23-28e2-49ac-a1da-a5859d7d4f8d"
   },
   "outputs": [
    {
     "name": "stdout",
     "output_type": "stream",
     "text": [
      "Model: \"model_3\"\n",
      "__________________________________________________________________________________________________\n",
      "Layer (type)                    Output Shape         Param #     Connected to                     \n",
      "==================================================================================================\n",
      "img (InputLayer)                [(None, 2048, 2048,  0                                            \n",
      "__________________________________________________________________________________________________\n",
      "conv2d_57 (Conv2D)              (None, 2048, 2048, 8 80          img[0][0]                        \n",
      "__________________________________________________________________________________________________\n",
      "batch_normalization_54 (BatchNo (None, 2048, 2048, 8 32          conv2d_57[0][0]                  \n",
      "__________________________________________________________________________________________________\n",
      "activation_54 (Activation)      (None, 2048, 2048, 8 0           batch_normalization_54[0][0]     \n",
      "__________________________________________________________________________________________________\n",
      "conv2d_58 (Conv2D)              (None, 2048, 2048, 8 584         activation_54[0][0]              \n",
      "__________________________________________________________________________________________________\n",
      "batch_normalization_55 (BatchNo (None, 2048, 2048, 8 32          conv2d_58[0][0]                  \n",
      "__________________________________________________________________________________________________\n",
      "activation_55 (Activation)      (None, 2048, 2048, 8 0           batch_normalization_55[0][0]     \n",
      "__________________________________________________________________________________________________\n",
      "max_pooling2d_12 (MaxPooling2D) (None, 1024, 1024, 8 0           activation_55[0][0]              \n",
      "__________________________________________________________________________________________________\n",
      "conv2d_59 (Conv2D)              (None, 1024, 1024, 1 1168        max_pooling2d_12[0][0]           \n",
      "__________________________________________________________________________________________________\n",
      "batch_normalization_56 (BatchNo (None, 1024, 1024, 1 64          conv2d_59[0][0]                  \n",
      "__________________________________________________________________________________________________\n",
      "activation_56 (Activation)      (None, 1024, 1024, 1 0           batch_normalization_56[0][0]     \n",
      "__________________________________________________________________________________________________\n",
      "conv2d_60 (Conv2D)              (None, 1024, 1024, 1 2320        activation_56[0][0]              \n",
      "__________________________________________________________________________________________________\n",
      "batch_normalization_57 (BatchNo (None, 1024, 1024, 1 64          conv2d_60[0][0]                  \n",
      "__________________________________________________________________________________________________\n",
      "activation_57 (Activation)      (None, 1024, 1024, 1 0           batch_normalization_57[0][0]     \n",
      "__________________________________________________________________________________________________\n",
      "max_pooling2d_13 (MaxPooling2D) (None, 512, 512, 16) 0           activation_57[0][0]              \n",
      "__________________________________________________________________________________________________\n",
      "conv2d_61 (Conv2D)              (None, 512, 512, 32) 4640        max_pooling2d_13[0][0]           \n",
      "__________________________________________________________________________________________________\n",
      "batch_normalization_58 (BatchNo (None, 512, 512, 32) 128         conv2d_61[0][0]                  \n",
      "__________________________________________________________________________________________________\n",
      "activation_58 (Activation)      (None, 512, 512, 32) 0           batch_normalization_58[0][0]     \n",
      "__________________________________________________________________________________________________\n",
      "conv2d_62 (Conv2D)              (None, 512, 512, 32) 9248        activation_58[0][0]              \n",
      "__________________________________________________________________________________________________\n",
      "batch_normalization_59 (BatchNo (None, 512, 512, 32) 128         conv2d_62[0][0]                  \n",
      "__________________________________________________________________________________________________\n",
      "activation_59 (Activation)      (None, 512, 512, 32) 0           batch_normalization_59[0][0]     \n",
      "__________________________________________________________________________________________________\n",
      "max_pooling2d_14 (MaxPooling2D) (None, 256, 256, 32) 0           activation_59[0][0]              \n",
      "__________________________________________________________________________________________________\n",
      "conv2d_63 (Conv2D)              (None, 256, 256, 64) 18496       max_pooling2d_14[0][0]           \n",
      "__________________________________________________________________________________________________\n",
      "batch_normalization_60 (BatchNo (None, 256, 256, 64) 256         conv2d_63[0][0]                  \n",
      "__________________________________________________________________________________________________\n",
      "activation_60 (Activation)      (None, 256, 256, 64) 0           batch_normalization_60[0][0]     \n",
      "__________________________________________________________________________________________________\n",
      "conv2d_64 (Conv2D)              (None, 256, 256, 64) 36928       activation_60[0][0]              \n",
      "__________________________________________________________________________________________________\n",
      "batch_normalization_61 (BatchNo (None, 256, 256, 64) 256         conv2d_64[0][0]                  \n",
      "__________________________________________________________________________________________________\n",
      "activation_61 (Activation)      (None, 256, 256, 64) 0           batch_normalization_61[0][0]     \n",
      "__________________________________________________________________________________________________\n",
      "max_pooling2d_15 (MaxPooling2D) (None, 128, 128, 64) 0           activation_61[0][0]              \n",
      "__________________________________________________________________________________________________\n",
      "conv2d_65 (Conv2D)              (None, 128, 128, 128 73856       max_pooling2d_15[0][0]           \n",
      "__________________________________________________________________________________________________\n",
      "batch_normalization_62 (BatchNo (None, 128, 128, 128 512         conv2d_65[0][0]                  \n",
      "__________________________________________________________________________________________________\n",
      "activation_62 (Activation)      (None, 128, 128, 128 0           batch_normalization_62[0][0]     \n",
      "__________________________________________________________________________________________________\n",
      "conv2d_66 (Conv2D)              (None, 128, 128, 128 147584      activation_62[0][0]              \n",
      "__________________________________________________________________________________________________\n",
      "batch_normalization_63 (BatchNo (None, 128, 128, 128 512         conv2d_66[0][0]                  \n",
      "__________________________________________________________________________________________________\n",
      "activation_63 (Activation)      (None, 128, 128, 128 0           batch_normalization_63[0][0]     \n",
      "__________________________________________________________________________________________________\n",
      "conv2d_transpose_12 (Conv2DTran (None, 256, 256, 64) 73792       activation_63[0][0]              \n",
      "__________________________________________________________________________________________________\n",
      "concatenate_12 (Concatenate)    (None, 256, 256, 128 0           conv2d_transpose_12[0][0]        \n",
      "                                                                 activation_61[0][0]              \n",
      "__________________________________________________________________________________________________\n",
      "conv2d_67 (Conv2D)              (None, 256, 256, 64) 73792       concatenate_12[0][0]             \n",
      "__________________________________________________________________________________________________\n",
      "batch_normalization_64 (BatchNo (None, 256, 256, 64) 256         conv2d_67[0][0]                  \n",
      "__________________________________________________________________________________________________\n",
      "activation_64 (Activation)      (None, 256, 256, 64) 0           batch_normalization_64[0][0]     \n",
      "__________________________________________________________________________________________________\n",
      "conv2d_68 (Conv2D)              (None, 256, 256, 64) 36928       activation_64[0][0]              \n",
      "__________________________________________________________________________________________________\n",
      "batch_normalization_65 (BatchNo (None, 256, 256, 64) 256         conv2d_68[0][0]                  \n",
      "__________________________________________________________________________________________________\n",
      "activation_65 (Activation)      (None, 256, 256, 64) 0           batch_normalization_65[0][0]     \n",
      "__________________________________________________________________________________________________\n",
      "conv2d_transpose_13 (Conv2DTran (None, 512, 512, 32) 18464       activation_65[0][0]              \n",
      "__________________________________________________________________________________________________\n",
      "concatenate_13 (Concatenate)    (None, 512, 512, 64) 0           conv2d_transpose_13[0][0]        \n",
      "                                                                 activation_59[0][0]              \n",
      "__________________________________________________________________________________________________\n",
      "conv2d_69 (Conv2D)              (None, 512, 512, 32) 18464       concatenate_13[0][0]             \n",
      "__________________________________________________________________________________________________\n",
      "batch_normalization_66 (BatchNo (None, 512, 512, 32) 128         conv2d_69[0][0]                  \n",
      "__________________________________________________________________________________________________\n",
      "activation_66 (Activation)      (None, 512, 512, 32) 0           batch_normalization_66[0][0]     \n",
      "__________________________________________________________________________________________________\n",
      "conv2d_70 (Conv2D)              (None, 512, 512, 32) 9248        activation_66[0][0]              \n",
      "__________________________________________________________________________________________________\n",
      "batch_normalization_67 (BatchNo (None, 512, 512, 32) 128         conv2d_70[0][0]                  \n",
      "__________________________________________________________________________________________________\n",
      "activation_67 (Activation)      (None, 512, 512, 32) 0           batch_normalization_67[0][0]     \n",
      "__________________________________________________________________________________________________\n",
      "conv2d_transpose_14 (Conv2DTran (None, 1024, 1024, 1 4624        activation_67[0][0]              \n",
      "__________________________________________________________________________________________________\n",
      "concatenate_14 (Concatenate)    (None, 1024, 1024, 3 0           conv2d_transpose_14[0][0]        \n",
      "                                                                 activation_57[0][0]              \n",
      "__________________________________________________________________________________________________\n",
      "conv2d_71 (Conv2D)              (None, 1024, 1024, 1 4624        concatenate_14[0][0]             \n",
      "__________________________________________________________________________________________________\n",
      "batch_normalization_68 (BatchNo (None, 1024, 1024, 1 64          conv2d_71[0][0]                  \n",
      "__________________________________________________________________________________________________\n",
      "activation_68 (Activation)      (None, 1024, 1024, 1 0           batch_normalization_68[0][0]     \n",
      "__________________________________________________________________________________________________\n",
      "conv2d_72 (Conv2D)              (None, 1024, 1024, 1 2320        activation_68[0][0]              \n",
      "__________________________________________________________________________________________________\n",
      "batch_normalization_69 (BatchNo (None, 1024, 1024, 1 64          conv2d_72[0][0]                  \n",
      "__________________________________________________________________________________________________\n",
      "activation_69 (Activation)      (None, 1024, 1024, 1 0           batch_normalization_69[0][0]     \n",
      "__________________________________________________________________________________________________\n",
      "conv2d_transpose_15 (Conv2DTran (None, 2048, 2048, 8 1160        activation_69[0][0]              \n",
      "__________________________________________________________________________________________________\n",
      "concatenate_15 (Concatenate)    (None, 2048, 2048, 1 0           conv2d_transpose_15[0][0]        \n",
      "                                                                 activation_55[0][0]              \n",
      "__________________________________________________________________________________________________\n",
      "conv2d_73 (Conv2D)              (None, 2048, 2048, 8 1160        concatenate_15[0][0]             \n",
      "__________________________________________________________________________________________________\n",
      "batch_normalization_70 (BatchNo (None, 2048, 2048, 8 32          conv2d_73[0][0]                  \n",
      "__________________________________________________________________________________________________\n",
      "activation_70 (Activation)      (None, 2048, 2048, 8 0           batch_normalization_70[0][0]     \n",
      "__________________________________________________________________________________________________\n",
      "conv2d_74 (Conv2D)              (None, 2048, 2048, 8 584         activation_70[0][0]              \n",
      "__________________________________________________________________________________________________\n",
      "batch_normalization_71 (BatchNo (None, 2048, 2048, 8 32          conv2d_74[0][0]                  \n",
      "__________________________________________________________________________________________________\n",
      "activation_71 (Activation)      (None, 2048, 2048, 8 0           batch_normalization_71[0][0]     \n",
      "__________________________________________________________________________________________________\n",
      "conv2d_75 (Conv2D)              (None, 2048, 2048, 1 9           activation_71[0][0]              \n",
      "==================================================================================================\n",
      "Total params: 543,017\n",
      "Trainable params: 541,545\n",
      "Non-trainable params: 1,472\n",
      "__________________________________________________________________________________________________\n"
     ]
    }
   ],
   "source": [
    "input_img = Input((train_data.shape[1], train_data.shape[2],1), name='img')\n",
    "model = get_unet(input_img, n_filters=2, batchnorm=False)\n",
    "\n",
    "model.compile(optimizer=Adam(), loss=\"binary_crossentropy\", metrics=[dice_coefficient])\n",
    "model.summary()"
   ]
  },
  {
   "cell_type": "code",
   "execution_count": 16,
   "metadata": {
    "id": "xDumrYZycUlx"
   },
   "outputs": [],
   "source": [
    "# saving the log and show it by tensorboard\n",
    "NAME='UNet_gpu'\n",
    "tensorboard = TensorBoard(log_dir=\"logs/{}\".format(NAME))\n",
    "%load_ext tensorboard"
   ]
  },
  {
   "cell_type": "code",
   "execution_count": null,
   "metadata": {},
   "outputs": [],
   "source": []
  },
  {
   "cell_type": "code",
   "execution_count": 74,
   "metadata": {
    "id": "gYjTob0jcmXc"
   },
   "outputs": [],
   "source": [
    "## early stoping and chekPoint\n",
    "early_stop = EarlyStopping(monitor='val_loss', patience=50, mode='min')\n",
    "filepath=\"weights_best_ISV_2xdata_nobatchcorr.hdf5\"\n",
    "checkpoint = ModelCheckpoint(filepath, monitor='val_loss', verbose=2, save_best_only=True, mode='min')\n",
    "plotlosses = PlotLossesKeras()\n",
    "callbacks_list = [checkpoint, early_stop,plotlosses]"
   ]
  },
  {
   "cell_type": "code",
   "execution_count": 65,
   "metadata": {},
   "outputs": [],
   "source": [
    "model = load_model(\"weights_best_ISV.hdf5\", custom_objects={'dice_coefficient': dice_coefficient})"
   ]
  },
  {
   "cell_type": "code",
   "execution_count": 76,
   "metadata": {
    "colab": {
     "base_uri": "https://localhost:8080/",
     "height": 714
    },
    "id": "09GrWemhmuPJ",
    "outputId": "35af0929-dff3-4cf0-e80e-bc6e6304f27c"
   },
   "outputs": [
    {
     "data": {
      "image/png": "[encoded data removed]",
      "text/plain": [
       "<Figure size 864x576 with 2 Axes>"
      ]
     },
     "metadata": {
      "needs_background": "light"
     },
     "output_type": "display_data"
    },
    {
     "name": "stdout",
     "output_type": "stream",
     "text": [
      "dice_coefficient\n",
      "\ttraining         \t (min:    0.000, max:    0.951, cur:    0.946)\n",
      "\tvalidation       \t (min:    0.000, max:    0.759, cur:    0.738)\n",
      "Loss\n",
      "\ttraining         \t (min:    0.000, max:    0.429, cur:    0.000)\n",
      "\tvalidation       \t (min:    0.000, max:    0.599, cur:    0.000)\n"
     ]
    }
   ],
   "source": [
    "results = model.fit(train_data, train_labels, batch_size=3, epochs=500, callbacks=callbacks_list,\n",
    "                    validation_split=0.3,verbose=2, shuffle=True)"
   ]
  },
  {
   "cell_type": "code",
   "execution_count": 28,
   "metadata": {},
   "outputs": [],
   "source": [
    "model = load_model(\"weights_best_ISV.hdf5\", custom_objects={'dice_coefficient': dice_coefficient})\n",
    "#preds_test = model.predict(val_data, verbose=1)\n"
   ]
  },
  {
   "cell_type": "code",
   "execution_count": 38,
   "metadata": {},
   "outputs": [],
   "source": [
    "def unseen_data_collect(path_train,final_size):\n",
    "   \n",
    "    listImages=os.listdir(path_train)[0:3]\n",
    "    print(listImages)\n",
    "    \n",
    "    n_samples=len(listImages)\n",
    "    X = np.zeros((n_samples, final_size, final_size), dtype=np.float32)\n",
    "    #y = np.zeros((n_samples, final_size, final_size), dtype=np.float32)\n",
    "    \n",
    "    count=0\n",
    "    for i in listImages:\n",
    "        img=imread(path_train+\"/\"+i)\n",
    "        image_downscaled=skimage.transform.resize(img, (final_size, final_size),anti_aliasing=False).astype(np.float32)\n",
    "\n",
    "\n",
    "        #listMask=os.listdir(path_train)\n",
    "        #mask=imread(path_train+\"Annotations/CI/\"+i)\n",
    "        #msk=mask[:crop,:crop]\n",
    "        #mask_downscaled=skimage.transform.resize(msk, (final_size, final_size),anti_aliasing=False).astype(np.float32)\n",
    "        #print(image_downscaled.shape)\n",
    "        #print(mask_downscaled.shape)\n",
    "        X[count,:,:]=image_downscaled\n",
    "        #y[count,:,:]=mask_downscaled\n",
    "\n",
    "        count+=1\n",
    "        print(count)\n",
    "    return X"
   ]
  },
  {
   "cell_type": "code",
   "execution_count": 39,
   "metadata": {},
   "outputs": [
    {
     "name": "stdout",
     "output_type": "stream",
     "text": [
      "['MAX_201217153949_20201218_drugscreen__FliV_Myl7mR_D02_D11_4x_BF_470_A001.tif', 'MAX_201217153949_20201218_drugscreen__FliV_Myl7mR_D02_D11_4x_BF_470_A002.tif', 'MAX_201217153949_20201218_drugscreen__FliV_Myl7mR_D02_D11_4x_BF_470_A003.tif']\n",
      "1\n",
      "2\n",
      "3\n"
     ]
    }
   ],
   "source": [
    "path_unseen=\"D:/AlexanderErnst/DeepLearning_ISV/Data/Max_projections\"\n",
    "X_unseen=unseen_data_collect(path_unseen,2048)"
   ]
  },
  {
   "cell_type": "code",
   "execution_count": 28,
   "metadata": {},
   "outputs": [
    {
     "data": {
      "text/plain": [
       "(3, 2048, 2048)"
      ]
     },
     "execution_count": 28,
     "metadata": {},
     "output_type": "execute_result"
    }
   ],
   "source": [
    "X_unseen.shape"
   ]
  },
  {
   "cell_type": "code",
   "execution_count": 40,
   "metadata": {},
   "outputs": [
    {
     "name": "stdout",
     "output_type": "stream",
     "text": [
      "1/1 [==============================] - 3s 3s/step\n"
     ]
    }
   ],
   "source": [
    "\n",
    "preds_unseen = model.predict(X_unseen, verbose=1)\n",
    "preds_unseen_t = (preds_unseen > 0.002).astype(np.uint8)"
   ]
  },
  {
   "cell_type": "code",
   "execution_count": 19,
   "metadata": {},
   "outputs": [
    {
     "ename": "NameError",
     "evalue": "name 'preds_unseen_t' is not defined",
     "output_type": "error",
     "traceback": [
      "\u001b[1;31m---------------------------------------------------------------------------\u001b[0m",
      "\u001b[1;31mNameError\u001b[0m                                 Traceback (most recent call last)",
      "\u001b[1;32m<ipython-input-19-1ff20242ecf9>\u001b[0m in \u001b[0;36m<module>\u001b[1;34m\u001b[0m\n\u001b[1;32m----> 1\u001b[1;33m \u001b[0mpreds_unseen_t\u001b[0m\u001b[1;33m.\u001b[0m\u001b[0mshape\u001b[0m\u001b[1;33m\u001b[0m\u001b[1;33m\u001b[0m\u001b[0m\n\u001b[0m",
      "\u001b[1;31mNameError\u001b[0m: name 'preds_unseen_t' is not defined"
     ]
    }
   ],
   "source": []
  },
  {
   "cell_type": "code",
   "execution_count": 45,
   "metadata": {},
   "outputs": [],
   "source": [
    "model = load_model(\"weights_best_ISV.hdf5\", custom_objects={'dice_coefficient': dice_coefficient})\n",
    "def model_predictions(path_images,path_save,final_size):\n",
    "   \n",
    "    listImages=os.listdir(path_images)\n",
    "    print(listImages)\n",
    "    \n",
    "    n_samples=len(listImages)\n",
    "    X = np.zeros((n_samples, final_size, final_size), dtype=np.float32)\n",
    "    #y = np.zeros((n_samples, final_size, final_size), dtype=np.float32)\n",
    "    \n",
    "    count=0\n",
    "    for i in listImages:\n",
    "        img_arr=np.zeros((1, final_size, final_size), dtype=np.float32)\n",
    "        img=imread(path_images+\"/\"+i)\n",
    "        image_downscaled=skimage.transform.resize(img, (final_size, final_size),anti_aliasing=False).astype(np.float32)\n",
    "        img_arr[0,:,:]=image_downscaled\n",
    "\n",
    "        preds_unseen = model.predict(img_arr, verbose=1)\n",
    "        preds_unseen_t = (preds_unseen > 0.002).astype(np.uint8)\n",
    "        print(preds_unseen_t.shape)\n",
    "        skimage.io.imsave(path_save+\"/UNetSeg_\"+i+\".tif\",preds_unseen_t)\n",
    "        \n",
    "        \n",
    "        \n",
    "\n",
    "        count+=1\n",
    "        print(count)\n",
    "    return X\n",
    "path_im=\"D:/AlexanderErnst/DeepLearning_ISV/Data/Max_projections\"\n",
    "path_sa=\"D:/AlexanderErnst/DeepLearning_ISV/Data/Predictions\"\n",
    "f_size=2048\n",
    "predictions=model_predictions(path_im,path_sa,f_size)"
   ]
  },
  {
   "cell_type": "code",
   "execution_count": 46,
   "metadata": {},
   "outputs": [
    {
     "name": "stdout",
     "output_type": "stream",
     "text": [
      "['MAX_201217153949_20201218_drugscreen__FliV_Myl7mR_D02_D11_4x_BF_470_A001.tif', 'MAX_201217153949_20201218_drugscreen__FliV_Myl7mR_D02_D11_4x_BF_470_A002.tif', 'MAX_201217153949_20201218_drugscreen__FliV_Myl7mR_D02_D11_4x_BF_470_A003.tif', 'MAX_201217153949_20201218_drugscreen__FliV_Myl7mR_D02_D11_4x_BF_470_A004.tif', 'MAX_201217153949_20201218_drugscreen__FliV_Myl7mR_D02_D11_4x_BF_470_A005.tif', 'MAX_201217153949_20201218_drugscreen__FliV_Myl7mR_D02_D11_4x_BF_470_A006.tif', 'MAX_201217153949_20201218_drugscreen__FliV_Myl7mR_D02_D11_4x_BF_470_A007.tif', 'MAX_201217153949_20201218_drugscreen__FliV_Myl7mR_D02_D11_4x_BF_470_A008.tif', 'MAX_201217153949_20201218_drugscreen__FliV_Myl7mR_D02_D11_4x_BF_470_A009.tif', 'MAX_201217153949_20201218_drugscreen__FliV_Myl7mR_D02_D11_4x_BF_470_A010.tif', 'MAX_201217153949_20201218_drugscreen__FliV_Myl7mR_D02_D11_4x_BF_470_A011.tif', 'MAX_201217153949_20201218_drugscreen__FliV_Myl7mR_D02_D11_4x_BF_470_A012.tif', 'MAX_201217153949_20201218_drugscreen__FliV_Myl7mR_D02_D11_4x_BF_470_B001.tif', 'MAX_201217153949_20201218_drugscreen__FliV_Myl7mR_D02_D11_4x_BF_470_B002.tif', 'MAX_201217153949_20201218_drugscreen__FliV_Myl7mR_D02_D11_4x_BF_470_B003.tif', 'MAX_201217153949_20201218_drugscreen__FliV_Myl7mR_D02_D11_4x_BF_470_B004.tif', 'MAX_201217153949_20201218_drugscreen__FliV_Myl7mR_D02_D11_4x_BF_470_B005.tif', 'MAX_201217153949_20201218_drugscreen__FliV_Myl7mR_D02_D11_4x_BF_470_B006.tif', 'MAX_201217153949_20201218_drugscreen__FliV_Myl7mR_D02_D11_4x_BF_470_B007.tif', 'MAX_201217153949_20201218_drugscreen__FliV_Myl7mR_D02_D11_4x_BF_470_B008.tif', 'MAX_201217153949_20201218_drugscreen__FliV_Myl7mR_D02_D11_4x_BF_470_B009.tif', 'MAX_201217153949_20201218_drugscreen__FliV_Myl7mR_D02_D11_4x_BF_470_B010.tif', 'MAX_201217153949_20201218_drugscreen__FliV_Myl7mR_D02_D11_4x_BF_470_B011.tif', 'MAX_201217153949_20201218_drugscreen__FliV_Myl7mR_D02_D11_4x_BF_470_B012.tif', 'MAX_201217153949_20201218_drugscreen__FliV_Myl7mR_D02_D11_4x_BF_470_C001.tif', 'MAX_201217153949_20201218_drugscreen__FliV_Myl7mR_D02_D11_4x_BF_470_C002.tif', 'MAX_201217153949_20201218_drugscreen__FliV_Myl7mR_D02_D11_4x_BF_470_C003.tif', 'MAX_201217153949_20201218_drugscreen__FliV_Myl7mR_D02_D11_4x_BF_470_C004.tif', 'MAX_201217153949_20201218_drugscreen__FliV_Myl7mR_D02_D11_4x_BF_470_C005.tif', 'MAX_201217153949_20201218_drugscreen__FliV_Myl7mR_D02_D11_4x_BF_470_C006.tif', 'MAX_201217153949_20201218_drugscreen__FliV_Myl7mR_D02_D11_4x_BF_470_C007.tif', 'MAX_201217153949_20201218_drugscreen__FliV_Myl7mR_D02_D11_4x_BF_470_C008.tif', 'MAX_201217153949_20201218_drugscreen__FliV_Myl7mR_D02_D11_4x_BF_470_C009.tif', 'MAX_201217153949_20201218_drugscreen__FliV_Myl7mR_D02_D11_4x_BF_470_C010.tif', 'MAX_201217153949_20201218_drugscreen__FliV_Myl7mR_D02_D11_4x_BF_470_C011.tif', 'MAX_201217153949_20201218_drugscreen__FliV_Myl7mR_D02_D11_4x_BF_470_C012.tif', 'MAX_201217153949_20201218_drugscreen__FliV_Myl7mR_D02_D11_4x_BF_470_D001.tif', 'MAX_201217153949_20201218_drugscreen__FliV_Myl7mR_D02_D11_4x_BF_470_D002.tif', 'MAX_201217153949_20201218_drugscreen__FliV_Myl7mR_D02_D11_4x_BF_470_D003.tif', 'MAX_201217153949_20201218_drugscreen__FliV_Myl7mR_D02_D11_4x_BF_470_D004.tif', 'MAX_201217153949_20201218_drugscreen__FliV_Myl7mR_D02_D11_4x_BF_470_D005.tif', 'MAX_201217153949_20201218_drugscreen__FliV_Myl7mR_D02_D11_4x_BF_470_D006.tif', 'MAX_201217153949_20201218_drugscreen__FliV_Myl7mR_D02_D11_4x_BF_470_D007.tif', 'MAX_201217153949_20201218_drugscreen__FliV_Myl7mR_D02_D11_4x_BF_470_D008.tif', 'MAX_201217153949_20201218_drugscreen__FliV_Myl7mR_D02_D11_4x_BF_470_D009.tif', 'MAX_201217153949_20201218_drugscreen__FliV_Myl7mR_D02_D11_4x_BF_470_D010.tif', 'MAX_201217153949_20201218_drugscreen__FliV_Myl7mR_D02_D11_4x_BF_470_D011.tif', 'MAX_201217153949_20201218_drugscreen__FliV_Myl7mR_D02_D11_4x_BF_470_D012.tif', 'MAX_201217153949_20201218_drugscreen__FliV_Myl7mR_D02_D11_4x_BF_470_E001.tif', 'MAX_201217153949_20201218_drugscreen__FliV_Myl7mR_D02_D11_4x_BF_470_E002.tif', 'MAX_201217153949_20201218_drugscreen__FliV_Myl7mR_D02_D11_4x_BF_470_E003.tif', 'MAX_201217153949_20201218_drugscreen__FliV_Myl7mR_D02_D11_4x_BF_470_E004.tif', 'MAX_201217153949_20201218_drugscreen__FliV_Myl7mR_D02_D11_4x_BF_470_E005.tif', 'MAX_201217153949_20201218_drugscreen__FliV_Myl7mR_D02_D11_4x_BF_470_E006.tif', 'MAX_201217153949_20201218_drugscreen__FliV_Myl7mR_D02_D11_4x_BF_470_E007.tif', 'MAX_201217153949_20201218_drugscreen__FliV_Myl7mR_D02_D11_4x_BF_470_E008.tif', 'MAX_201217153949_20201218_drugscreen__FliV_Myl7mR_D02_D11_4x_BF_470_E009.tif', 'MAX_201217153949_20201218_drugscreen__FliV_Myl7mR_D02_D11_4x_BF_470_E010.tif', 'MAX_201217153949_20201218_drugscreen__FliV_Myl7mR_D02_D11_4x_BF_470_E011.tif', 'MAX_201217153949_20201218_drugscreen__FliV_Myl7mR_D02_D11_4x_BF_470_E012.tif', 'MAX_201217153949_20201218_drugscreen__FliV_Myl7mR_D02_D11_4x_BF_470_F001.tif', 'MAX_201217153949_20201218_drugscreen__FliV_Myl7mR_D02_D11_4x_BF_470_F002.tif', 'MAX_201217153949_20201218_drugscreen__FliV_Myl7mR_D02_D11_4x_BF_470_F003.tif', 'MAX_201217153949_20201218_drugscreen__FliV_Myl7mR_D02_D11_4x_BF_470_F004.tif', 'MAX_201217153949_20201218_drugscreen__FliV_Myl7mR_D02_D11_4x_BF_470_F005.tif', 'MAX_201217153949_20201218_drugscreen__FliV_Myl7mR_D02_D11_4x_BF_470_F006.tif', 'MAX_201217153949_20201218_drugscreen__FliV_Myl7mR_D02_D11_4x_BF_470_F007.tif', 'MAX_201217153949_20201218_drugscreen__FliV_Myl7mR_D02_D11_4x_BF_470_F008.tif', 'MAX_201217153949_20201218_drugscreen__FliV_Myl7mR_D02_D11_4x_BF_470_F009.tif', 'MAX_201217153949_20201218_drugscreen__FliV_Myl7mR_D02_D11_4x_BF_470_F010.tif', 'MAX_201217153949_20201218_drugscreen__FliV_Myl7mR_D02_D11_4x_BF_470_F011.tif', 'MAX_201217153949_20201218_drugscreen__FliV_Myl7mR_D02_D11_4x_BF_470_F012.tif', 'MAX_201217153949_20201218_drugscreen__FliV_Myl7mR_D02_D11_4x_BF_470_G001.tif', 'MAX_201217153949_20201218_drugscreen__FliV_Myl7mR_D02_D11_4x_BF_470_G002.tif', 'MAX_201217153949_20201218_drugscreen__FliV_Myl7mR_D02_D11_4x_BF_470_G003.tif', 'MAX_201217153949_20201218_drugscreen__FliV_Myl7mR_D02_D11_4x_BF_470_G004.tif', 'MAX_201217153949_20201218_drugscreen__FliV_Myl7mR_D02_D11_4x_BF_470_G005.tif', 'MAX_201217153949_20201218_drugscreen__FliV_Myl7mR_D02_D11_4x_BF_470_G006.tif', 'MAX_201217153949_20201218_drugscreen__FliV_Myl7mR_D02_D11_4x_BF_470_G007.tif', 'MAX_201217153949_20201218_drugscreen__FliV_Myl7mR_D02_D11_4x_BF_470_G008.tif', 'MAX_201217153949_20201218_drugscreen__FliV_Myl7mR_D02_D11_4x_BF_470_G009.tif', 'MAX_201217153949_20201218_drugscreen__FliV_Myl7mR_D02_D11_4x_BF_470_G010.tif', 'MAX_201217153949_20201218_drugscreen__FliV_Myl7mR_D02_D11_4x_BF_470_G011.tif', 'MAX_201217153949_20201218_drugscreen__FliV_Myl7mR_D02_D11_4x_BF_470_G012.tif', 'MAX_201217153949_20201218_drugscreen__FliV_Myl7mR_D02_D11_4x_BF_470_H001.tif', 'MAX_201217153949_20201218_drugscreen__FliV_Myl7mR_D02_D11_4x_BF_470_H002.tif', 'MAX_201217153949_20201218_drugscreen__FliV_Myl7mR_D02_D11_4x_BF_470_H003.tif', 'MAX_201217153949_20201218_drugscreen__FliV_Myl7mR_D02_D11_4x_BF_470_H004.tif', 'MAX_201217153949_20201218_drugscreen__FliV_Myl7mR_D02_D11_4x_BF_470_H005.tif', 'MAX_201217153949_20201218_drugscreen__FliV_Myl7mR_D02_D11_4x_BF_470_H006.tif', 'MAX_201217153949_20201218_drugscreen__FliV_Myl7mR_D02_D11_4x_BF_470_H007.tif', 'MAX_201217153949_20201218_drugscreen__FliV_Myl7mR_D02_D11_4x_BF_470_H008.tif', 'MAX_201217153949_20201218_drugscreen__FliV_Myl7mR_D02_D11_4x_BF_470_H009.tif', 'MAX_201217153949_20201218_drugscreen__FliV_Myl7mR_D02_D11_4x_BF_470_H010.tif', 'MAX_201217153949_20201218_drugscreen__FliV_Myl7mR_D02_D11_4x_BF_470_H011.tif', 'MAX_201217153949_20201218_drugscreen__FliV_Myl7mR_D02_D11_4x_BF_470_H012.tif']\n",
      "1/1 [==============================] - 0s 108ms/step\n",
      "(1, 2048, 2048, 1)\n",
      "1\n"
     ]
    },
    {
     "name": "stderr",
     "output_type": "stream",
     "text": [
      "<ipython-input-45-9b59231d7783>:20: UserWarning: D:/AlexanderErnst/DeepLearning_ISV/Data/Predictions/UNetSeg_MAX_201217153949_20201218_drugscreen__FliV_Myl7mR_D02_D11_4x_BF_470_A001.tif.tif is a low contrast image\n",
      "  skimage.io.imsave(path_save+\"/UNetSeg_\"+i+\".tif\",preds_unseen_t)\n"
     ]
    },
    {
     "name": "stdout",
     "output_type": "stream",
     "text": [
      "1/1 [==============================] - 0s 104ms/step\n",
      "(1, 2048, 2048, 1)\n",
      "2\n"
     ]
    },
    {
     "name": "stderr",
     "output_type": "stream",
     "text": [
      "<ipython-input-45-9b59231d7783>:20: UserWarning: D:/AlexanderErnst/DeepLearning_ISV/Data/Predictions/UNetSeg_MAX_201217153949_20201218_drugscreen__FliV_Myl7mR_D02_D11_4x_BF_470_A002.tif.tif is a low contrast image\n",
      "  skimage.io.imsave(path_save+\"/UNetSeg_\"+i+\".tif\",preds_unseen_t)\n"
     ]
    },
    {
     "name": "stdout",
     "output_type": "stream",
     "text": [
      "1/1 [==============================] - 0s 100ms/step\n",
      "(1, 2048, 2048, 1)\n",
      "3\n"
     ]
    },
    {
     "name": "stderr",
     "output_type": "stream",
     "text": [
      "<ipython-input-45-9b59231d7783>:20: UserWarning: D:/AlexanderErnst/DeepLearning_ISV/Data/Predictions/UNetSeg_MAX_201217153949_20201218_drugscreen__FliV_Myl7mR_D02_D11_4x_BF_470_A003.tif.tif is a low contrast image\n",
      "  skimage.io.imsave(path_save+\"/UNetSeg_\"+i+\".tif\",preds_unseen_t)\n"
     ]
    },
    {
     "name": "stdout",
     "output_type": "stream",
     "text": [
      "1/1 [==============================] - 0s 100ms/step\n",
      "(1, 2048, 2048, 1)\n",
      "4\n"
     ]
    },
    {
     "name": "stderr",
     "output_type": "stream",
     "text": [
      "<ipython-input-45-9b59231d7783>:20: UserWarning: D:/AlexanderErnst/DeepLearning_ISV/Data/Predictions/UNetSeg_MAX_201217153949_20201218_drugscreen__FliV_Myl7mR_D02_D11_4x_BF_470_A004.tif.tif is a low contrast image\n",
      "  skimage.io.imsave(path_save+\"/UNetSeg_\"+i+\".tif\",preds_unseen_t)\n"
     ]
    },
    {
     "name": "stdout",
     "output_type": "stream",
     "text": [
      "1/1 [==============================] - 0s 109ms/step\n",
      "(1, 2048, 2048, 1)\n",
      "5\n"
     ]
    },
    {
     "name": "stderr",
     "output_type": "stream",
     "text": [
      "<ipython-input-45-9b59231d7783>:20: UserWarning: D:/AlexanderErnst/DeepLearning_ISV/Data/Predictions/UNetSeg_MAX_201217153949_20201218_drugscreen__FliV_Myl7mR_D02_D11_4x_BF_470_A005.tif.tif is a low contrast image\n",
      "  skimage.io.imsave(path_save+\"/UNetSeg_\"+i+\".tif\",preds_unseen_t)\n"
     ]
    },
    {
     "name": "stdout",
     "output_type": "stream",
     "text": [
      "1/1 [==============================] - 0s 104ms/step\n",
      "(1, 2048, 2048, 1)\n",
      "6\n"
     ]
    },
    {
     "name": "stderr",
     "output_type": "stream",
     "text": [
      "<ipython-input-45-9b59231d7783>:20: UserWarning: D:/AlexanderErnst/DeepLearning_ISV/Data/Predictions/UNetSeg_MAX_201217153949_20201218_drugscreen__FliV_Myl7mR_D02_D11_4x_BF_470_A006.tif.tif is a low contrast image\n",
      "  skimage.io.imsave(path_save+\"/UNetSeg_\"+i+\".tif\",preds_unseen_t)\n"
     ]
    },
    {
     "name": "stdout",
     "output_type": "stream",
     "text": [
      "1/1 [==============================] - 0s 100ms/step\n",
      "(1, 2048, 2048, 1)\n",
      "7\n"
     ]
    },
    {
     "name": "stderr",
     "output_type": "stream",
     "text": [
      "<ipython-input-45-9b59231d7783>:20: UserWarning: D:/AlexanderErnst/DeepLearning_ISV/Data/Predictions/UNetSeg_MAX_201217153949_20201218_drugscreen__FliV_Myl7mR_D02_D11_4x_BF_470_A007.tif.tif is a low contrast image\n",
      "  skimage.io.imsave(path_save+\"/UNetSeg_\"+i+\".tif\",preds_unseen_t)\n"
     ]
    },
    {
     "name": "stdout",
     "output_type": "stream",
     "text": [
      "1/1 [==============================] - 0s 105ms/step\n",
      "(1, 2048, 2048, 1)\n",
      "8\n"
     ]
    },
    {
     "name": "stderr",
     "output_type": "stream",
     "text": [
      "<ipython-input-45-9b59231d7783>:20: UserWarning: D:/AlexanderErnst/DeepLearning_ISV/Data/Predictions/UNetSeg_MAX_201217153949_20201218_drugscreen__FliV_Myl7mR_D02_D11_4x_BF_470_A008.tif.tif is a low contrast image\n",
      "  skimage.io.imsave(path_save+\"/UNetSeg_\"+i+\".tif\",preds_unseen_t)\n"
     ]
    },
    {
     "name": "stdout",
     "output_type": "stream",
     "text": [
      "1/1 [==============================] - 0s 103ms/step\n",
      "(1, 2048, 2048, 1)\n",
      "9\n"
     ]
    },
    {
     "name": "stderr",
     "output_type": "stream",
     "text": [
      "<ipython-input-45-9b59231d7783>:20: UserWarning: D:/AlexanderErnst/DeepLearning_ISV/Data/Predictions/UNetSeg_MAX_201217153949_20201218_drugscreen__FliV_Myl7mR_D02_D11_4x_BF_470_A009.tif.tif is a low contrast image\n",
      "  skimage.io.imsave(path_save+\"/UNetSeg_\"+i+\".tif\",preds_unseen_t)\n"
     ]
    },
    {
     "name": "stdout",
     "output_type": "stream",
     "text": [
      "1/1 [==============================] - 0s 98ms/step\n",
      "(1, 2048, 2048, 1)\n",
      "10\n"
     ]
    },
    {
     "name": "stderr",
     "output_type": "stream",
     "text": [
      "<ipython-input-45-9b59231d7783>:20: UserWarning: D:/AlexanderErnst/DeepLearning_ISV/Data/Predictions/UNetSeg_MAX_201217153949_20201218_drugscreen__FliV_Myl7mR_D02_D11_4x_BF_470_A010.tif.tif is a low contrast image\n",
      "  skimage.io.imsave(path_save+\"/UNetSeg_\"+i+\".tif\",preds_unseen_t)\n"
     ]
    },
    {
     "name": "stdout",
     "output_type": "stream",
     "text": [
      "1/1 [==============================] - 0s 111ms/step\n",
      "(1, 2048, 2048, 1)\n",
      "11\n"
     ]
    },
    {
     "name": "stderr",
     "output_type": "stream",
     "text": [
      "<ipython-input-45-9b59231d7783>:20: UserWarning: D:/AlexanderErnst/DeepLearning_ISV/Data/Predictions/UNetSeg_MAX_201217153949_20201218_drugscreen__FliV_Myl7mR_D02_D11_4x_BF_470_A011.tif.tif is a low contrast image\n",
      "  skimage.io.imsave(path_save+\"/UNetSeg_\"+i+\".tif\",preds_unseen_t)\n"
     ]
    },
    {
     "name": "stdout",
     "output_type": "stream",
     "text": [
      "1/1 [==============================] - 0s 106ms/step\n",
      "(1, 2048, 2048, 1)\n",
      "12\n"
     ]
    },
    {
     "name": "stderr",
     "output_type": "stream",
     "text": [
      "<ipython-input-45-9b59231d7783>:20: UserWarning: D:/AlexanderErnst/DeepLearning_ISV/Data/Predictions/UNetSeg_MAX_201217153949_20201218_drugscreen__FliV_Myl7mR_D02_D11_4x_BF_470_A012.tif.tif is a low contrast image\n",
      "  skimage.io.imsave(path_save+\"/UNetSeg_\"+i+\".tif\",preds_unseen_t)\n"
     ]
    },
    {
     "name": "stdout",
     "output_type": "stream",
     "text": [
      "1/1 [==============================] - 0s 97ms/step\n",
      "(1, 2048, 2048, 1)\n",
      "13\n"
     ]
    },
    {
     "name": "stderr",
     "output_type": "stream",
     "text": [
      "<ipython-input-45-9b59231d7783>:20: UserWarning: D:/AlexanderErnst/DeepLearning_ISV/Data/Predictions/UNetSeg_MAX_201217153949_20201218_drugscreen__FliV_Myl7mR_D02_D11_4x_BF_470_B001.tif.tif is a low contrast image\n",
      "  skimage.io.imsave(path_save+\"/UNetSeg_\"+i+\".tif\",preds_unseen_t)\n"
     ]
    },
    {
     "name": "stdout",
     "output_type": "stream",
     "text": [
      "1/1 [==============================] - 0s 97ms/step\n",
      "(1, 2048, 2048, 1)\n",
      "14\n"
     ]
    },
    {
     "name": "stderr",
     "output_type": "stream",
     "text": [
      "<ipython-input-45-9b59231d7783>:20: UserWarning: D:/AlexanderErnst/DeepLearning_ISV/Data/Predictions/UNetSeg_MAX_201217153949_20201218_drugscreen__FliV_Myl7mR_D02_D11_4x_BF_470_B002.tif.tif is a low contrast image\n",
      "  skimage.io.imsave(path_save+\"/UNetSeg_\"+i+\".tif\",preds_unseen_t)\n"
     ]
    },
    {
     "name": "stdout",
     "output_type": "stream",
     "text": [
      "1/1 [==============================] - 0s 103ms/step\n",
      "(1, 2048, 2048, 1)\n",
      "15\n"
     ]
    },
    {
     "name": "stderr",
     "output_type": "stream",
     "text": [
      "<ipython-input-45-9b59231d7783>:20: UserWarning: D:/AlexanderErnst/DeepLearning_ISV/Data/Predictions/UNetSeg_MAX_201217153949_20201218_drugscreen__FliV_Myl7mR_D02_D11_4x_BF_470_B003.tif.tif is a low contrast image\n",
      "  skimage.io.imsave(path_save+\"/UNetSeg_\"+i+\".tif\",preds_unseen_t)\n"
     ]
    },
    {
     "name": "stdout",
     "output_type": "stream",
     "text": [
      "1/1 [==============================] - 0s 106ms/step\n",
      "(1, 2048, 2048, 1)\n",
      "16\n"
     ]
    },
    {
     "name": "stderr",
     "output_type": "stream",
     "text": [
      "<ipython-input-45-9b59231d7783>:20: UserWarning: D:/AlexanderErnst/DeepLearning_ISV/Data/Predictions/UNetSeg_MAX_201217153949_20201218_drugscreen__FliV_Myl7mR_D02_D11_4x_BF_470_B004.tif.tif is a low contrast image\n",
      "  skimage.io.imsave(path_save+\"/UNetSeg_\"+i+\".tif\",preds_unseen_t)\n"
     ]
    },
    {
     "name": "stdout",
     "output_type": "stream",
     "text": [
      "1/1 [==============================] - 0s 106ms/step\n",
      "(1, 2048, 2048, 1)\n",
      "17\n"
     ]
    },
    {
     "name": "stderr",
     "output_type": "stream",
     "text": [
      "<ipython-input-45-9b59231d7783>:20: UserWarning: D:/AlexanderErnst/DeepLearning_ISV/Data/Predictions/UNetSeg_MAX_201217153949_20201218_drugscreen__FliV_Myl7mR_D02_D11_4x_BF_470_B005.tif.tif is a low contrast image\n",
      "  skimage.io.imsave(path_save+\"/UNetSeg_\"+i+\".tif\",preds_unseen_t)\n"
     ]
    },
    {
     "name": "stdout",
     "output_type": "stream",
     "text": [
      "1/1 [==============================] - 0s 103ms/step\n",
      "(1, 2048, 2048, 1)\n",
      "18\n"
     ]
    },
    {
     "name": "stderr",
     "output_type": "stream",
     "text": [
      "<ipython-input-45-9b59231d7783>:20: UserWarning: D:/AlexanderErnst/DeepLearning_ISV/Data/Predictions/UNetSeg_MAX_201217153949_20201218_drugscreen__FliV_Myl7mR_D02_D11_4x_BF_470_B006.tif.tif is a low contrast image\n",
      "  skimage.io.imsave(path_save+\"/UNetSeg_\"+i+\".tif\",preds_unseen_t)\n"
     ]
    },
    {
     "name": "stdout",
     "output_type": "stream",
     "text": [
      "1/1 [==============================] - 0s 105ms/step\n",
      "(1, 2048, 2048, 1)\n",
      "19\n"
     ]
    },
    {
     "name": "stderr",
     "output_type": "stream",
     "text": [
      "<ipython-input-45-9b59231d7783>:20: UserWarning: D:/AlexanderErnst/DeepLearning_ISV/Data/Predictions/UNetSeg_MAX_201217153949_20201218_drugscreen__FliV_Myl7mR_D02_D11_4x_BF_470_B007.tif.tif is a low contrast image\n",
      "  skimage.io.imsave(path_save+\"/UNetSeg_\"+i+\".tif\",preds_unseen_t)\n"
     ]
    },
    {
     "name": "stdout",
     "output_type": "stream",
     "text": [
      "1/1 [==============================] - 0s 105ms/step\n",
      "(1, 2048, 2048, 1)\n",
      "20\n"
     ]
    },
    {
     "name": "stderr",
     "output_type": "stream",
     "text": [
      "<ipython-input-45-9b59231d7783>:20: UserWarning: D:/AlexanderErnst/DeepLearning_ISV/Data/Predictions/UNetSeg_MAX_201217153949_20201218_drugscreen__FliV_Myl7mR_D02_D11_4x_BF_470_B008.tif.tif is a low contrast image\n",
      "  skimage.io.imsave(path_save+\"/UNetSeg_\"+i+\".tif\",preds_unseen_t)\n"
     ]
    },
    {
     "name": "stdout",
     "output_type": "stream",
     "text": [
      "1/1 [==============================] - 0s 104ms/step\n",
      "(1, 2048, 2048, 1)\n",
      "21\n"
     ]
    },
    {
     "name": "stderr",
     "output_type": "stream",
     "text": [
      "<ipython-input-45-9b59231d7783>:20: UserWarning: D:/AlexanderErnst/DeepLearning_ISV/Data/Predictions/UNetSeg_MAX_201217153949_20201218_drugscreen__FliV_Myl7mR_D02_D11_4x_BF_470_B009.tif.tif is a low contrast image\n",
      "  skimage.io.imsave(path_save+\"/UNetSeg_\"+i+\".tif\",preds_unseen_t)\n"
     ]
    },
    {
     "name": "stdout",
     "output_type": "stream",
     "text": [
      "1/1 [==============================] - 0s 105ms/step\n",
      "(1, 2048, 2048, 1)\n",
      "22\n"
     ]
    },
    {
     "name": "stderr",
     "output_type": "stream",
     "text": [
      "<ipython-input-45-9b59231d7783>:20: UserWarning: D:/AlexanderErnst/DeepLearning_ISV/Data/Predictions/UNetSeg_MAX_201217153949_20201218_drugscreen__FliV_Myl7mR_D02_D11_4x_BF_470_B010.tif.tif is a low contrast image\n",
      "  skimage.io.imsave(path_save+\"/UNetSeg_\"+i+\".tif\",preds_unseen_t)\n"
     ]
    },
    {
     "name": "stdout",
     "output_type": "stream",
     "text": [
      "1/1 [==============================] - 0s 106ms/step\n",
      "(1, 2048, 2048, 1)\n",
      "23\n"
     ]
    },
    {
     "name": "stderr",
     "output_type": "stream",
     "text": [
      "<ipython-input-45-9b59231d7783>:20: UserWarning: D:/AlexanderErnst/DeepLearning_ISV/Data/Predictions/UNetSeg_MAX_201217153949_20201218_drugscreen__FliV_Myl7mR_D02_D11_4x_BF_470_B011.tif.tif is a low contrast image\n",
      "  skimage.io.imsave(path_save+\"/UNetSeg_\"+i+\".tif\",preds_unseen_t)\n"
     ]
    },
    {
     "name": "stdout",
     "output_type": "stream",
     "text": [
      "1/1 [==============================] - 0s 108ms/step\n",
      "(1, 2048, 2048, 1)\n",
      "24\n"
     ]
    },
    {
     "name": "stderr",
     "output_type": "stream",
     "text": [
      "<ipython-input-45-9b59231d7783>:20: UserWarning: D:/AlexanderErnst/DeepLearning_ISV/Data/Predictions/UNetSeg_MAX_201217153949_20201218_drugscreen__FliV_Myl7mR_D02_D11_4x_BF_470_B012.tif.tif is a low contrast image\n",
      "  skimage.io.imsave(path_save+\"/UNetSeg_\"+i+\".tif\",preds_unseen_t)\n"
     ]
    },
    {
     "name": "stdout",
     "output_type": "stream",
     "text": [
      "1/1 [==============================] - 0s 102ms/step\n",
      "(1, 2048, 2048, 1)\n",
      "25\n"
     ]
    },
    {
     "name": "stderr",
     "output_type": "stream",
     "text": [
      "<ipython-input-45-9b59231d7783>:20: UserWarning: D:/AlexanderErnst/DeepLearning_ISV/Data/Predictions/UNetSeg_MAX_201217153949_20201218_drugscreen__FliV_Myl7mR_D02_D11_4x_BF_470_C001.tif.tif is a low contrast image\n",
      "  skimage.io.imsave(path_save+\"/UNetSeg_\"+i+\".tif\",preds_unseen_t)\n"
     ]
    },
    {
     "name": "stdout",
     "output_type": "stream",
     "text": [
      "1/1 [==============================] - 0s 109ms/step\n",
      "(1, 2048, 2048, 1)\n",
      "26\n"
     ]
    },
    {
     "name": "stderr",
     "output_type": "stream",
     "text": [
      "<ipython-input-45-9b59231d7783>:20: UserWarning: D:/AlexanderErnst/DeepLearning_ISV/Data/Predictions/UNetSeg_MAX_201217153949_20201218_drugscreen__FliV_Myl7mR_D02_D11_4x_BF_470_C002.tif.tif is a low contrast image\n",
      "  skimage.io.imsave(path_save+\"/UNetSeg_\"+i+\".tif\",preds_unseen_t)\n"
     ]
    },
    {
     "name": "stdout",
     "output_type": "stream",
     "text": [
      "1/1 [==============================] - 0s 95ms/step\n",
      "(1, 2048, 2048, 1)\n",
      "27\n"
     ]
    },
    {
     "name": "stderr",
     "output_type": "stream",
     "text": [
      "<ipython-input-45-9b59231d7783>:20: UserWarning: D:/AlexanderErnst/DeepLearning_ISV/Data/Predictions/UNetSeg_MAX_201217153949_20201218_drugscreen__FliV_Myl7mR_D02_D11_4x_BF_470_C003.tif.tif is a low contrast image\n",
      "  skimage.io.imsave(path_save+\"/UNetSeg_\"+i+\".tif\",preds_unseen_t)\n"
     ]
    },
    {
     "name": "stdout",
     "output_type": "stream",
     "text": [
      "1/1 [==============================] - 0s 102ms/step\n",
      "(1, 2048, 2048, 1)\n",
      "28\n"
     ]
    },
    {
     "name": "stderr",
     "output_type": "stream",
     "text": [
      "<ipython-input-45-9b59231d7783>:20: UserWarning: D:/AlexanderErnst/DeepLearning_ISV/Data/Predictions/UNetSeg_MAX_201217153949_20201218_drugscreen__FliV_Myl7mR_D02_D11_4x_BF_470_C004.tif.tif is a low contrast image\n",
      "  skimage.io.imsave(path_save+\"/UNetSeg_\"+i+\".tif\",preds_unseen_t)\n"
     ]
    },
    {
     "name": "stdout",
     "output_type": "stream",
     "text": [
      "1/1 [==============================] - 0s 91ms/step\n",
      "(1, 2048, 2048, 1)\n",
      "29\n"
     ]
    },
    {
     "name": "stderr",
     "output_type": "stream",
     "text": [
      "<ipython-input-45-9b59231d7783>:20: UserWarning: D:/AlexanderErnst/DeepLearning_ISV/Data/Predictions/UNetSeg_MAX_201217153949_20201218_drugscreen__FliV_Myl7mR_D02_D11_4x_BF_470_C005.tif.tif is a low contrast image\n",
      "  skimage.io.imsave(path_save+\"/UNetSeg_\"+i+\".tif\",preds_unseen_t)\n"
     ]
    },
    {
     "name": "stdout",
     "output_type": "stream",
     "text": [
      "1/1 [==============================] - 0s 119ms/step\n",
      "(1, 2048, 2048, 1)\n",
      "30\n"
     ]
    },
    {
     "name": "stderr",
     "output_type": "stream",
     "text": [
      "<ipython-input-45-9b59231d7783>:20: UserWarning: D:/AlexanderErnst/DeepLearning_ISV/Data/Predictions/UNetSeg_MAX_201217153949_20201218_drugscreen__FliV_Myl7mR_D02_D11_4x_BF_470_C006.tif.tif is a low contrast image\n",
      "  skimage.io.imsave(path_save+\"/UNetSeg_\"+i+\".tif\",preds_unseen_t)\n"
     ]
    },
    {
     "name": "stdout",
     "output_type": "stream",
     "text": [
      "1/1 [==============================] - 0s 106ms/step\n",
      "(1, 2048, 2048, 1)\n",
      "31\n"
     ]
    },
    {
     "name": "stderr",
     "output_type": "stream",
     "text": [
      "<ipython-input-45-9b59231d7783>:20: UserWarning: D:/AlexanderErnst/DeepLearning_ISV/Data/Predictions/UNetSeg_MAX_201217153949_20201218_drugscreen__FliV_Myl7mR_D02_D11_4x_BF_470_C007.tif.tif is a low contrast image\n",
      "  skimage.io.imsave(path_save+\"/UNetSeg_\"+i+\".tif\",preds_unseen_t)\n"
     ]
    },
    {
     "name": "stdout",
     "output_type": "stream",
     "text": [
      "1/1 [==============================] - 0s 104ms/step\n",
      "(1, 2048, 2048, 1)\n",
      "32\n"
     ]
    },
    {
     "name": "stderr",
     "output_type": "stream",
     "text": [
      "<ipython-input-45-9b59231d7783>:20: UserWarning: D:/AlexanderErnst/DeepLearning_ISV/Data/Predictions/UNetSeg_MAX_201217153949_20201218_drugscreen__FliV_Myl7mR_D02_D11_4x_BF_470_C008.tif.tif is a low contrast image\n",
      "  skimage.io.imsave(path_save+\"/UNetSeg_\"+i+\".tif\",preds_unseen_t)\n"
     ]
    },
    {
     "name": "stdout",
     "output_type": "stream",
     "text": [
      "1/1 [==============================] - 0s 102ms/step\n",
      "(1, 2048, 2048, 1)\n",
      "33\n"
     ]
    },
    {
     "name": "stderr",
     "output_type": "stream",
     "text": [
      "<ipython-input-45-9b59231d7783>:20: UserWarning: D:/AlexanderErnst/DeepLearning_ISV/Data/Predictions/UNetSeg_MAX_201217153949_20201218_drugscreen__FliV_Myl7mR_D02_D11_4x_BF_470_C009.tif.tif is a low contrast image\n",
      "  skimage.io.imsave(path_save+\"/UNetSeg_\"+i+\".tif\",preds_unseen_t)\n"
     ]
    },
    {
     "name": "stdout",
     "output_type": "stream",
     "text": [
      "1/1 [==============================] - 0s 110ms/step\n",
      "(1, 2048, 2048, 1)\n",
      "34\n"
     ]
    },
    {
     "name": "stderr",
     "output_type": "stream",
     "text": [
      "<ipython-input-45-9b59231d7783>:20: UserWarning: D:/AlexanderErnst/DeepLearning_ISV/Data/Predictions/UNetSeg_MAX_201217153949_20201218_drugscreen__FliV_Myl7mR_D02_D11_4x_BF_470_C010.tif.tif is a low contrast image\n",
      "  skimage.io.imsave(path_save+\"/UNetSeg_\"+i+\".tif\",preds_unseen_t)\n"
     ]
    },
    {
     "name": "stdout",
     "output_type": "stream",
     "text": [
      "1/1 [==============================] - 0s 102ms/step\n",
      "(1, 2048, 2048, 1)\n",
      "35\n"
     ]
    },
    {
     "name": "stderr",
     "output_type": "stream",
     "text": [
      "<ipython-input-45-9b59231d7783>:20: UserWarning: D:/AlexanderErnst/DeepLearning_ISV/Data/Predictions/UNetSeg_MAX_201217153949_20201218_drugscreen__FliV_Myl7mR_D02_D11_4x_BF_470_C011.tif.tif is a low contrast image\n",
      "  skimage.io.imsave(path_save+\"/UNetSeg_\"+i+\".tif\",preds_unseen_t)\n"
     ]
    },
    {
     "name": "stdout",
     "output_type": "stream",
     "text": [
      "1/1 [==============================] - 0s 105ms/step\n",
      "(1, 2048, 2048, 1)\n",
      "36\n"
     ]
    },
    {
     "name": "stderr",
     "output_type": "stream",
     "text": [
      "<ipython-input-45-9b59231d7783>:20: UserWarning: D:/AlexanderErnst/DeepLearning_ISV/Data/Predictions/UNetSeg_MAX_201217153949_20201218_drugscreen__FliV_Myl7mR_D02_D11_4x_BF_470_C012.tif.tif is a low contrast image\n",
      "  skimage.io.imsave(path_save+\"/UNetSeg_\"+i+\".tif\",preds_unseen_t)\n"
     ]
    },
    {
     "name": "stdout",
     "output_type": "stream",
     "text": [
      "1/1 [==============================] - 0s 118ms/step\n",
      "(1, 2048, 2048, 1)\n",
      "37\n"
     ]
    },
    {
     "name": "stderr",
     "output_type": "stream",
     "text": [
      "<ipython-input-45-9b59231d7783>:20: UserWarning: D:/AlexanderErnst/DeepLearning_ISV/Data/Predictions/UNetSeg_MAX_201217153949_20201218_drugscreen__FliV_Myl7mR_D02_D11_4x_BF_470_D001.tif.tif is a low contrast image\n",
      "  skimage.io.imsave(path_save+\"/UNetSeg_\"+i+\".tif\",preds_unseen_t)\n"
     ]
    },
    {
     "name": "stdout",
     "output_type": "stream",
     "text": [
      "1/1 [==============================] - 0s 106ms/step\n",
      "(1, 2048, 2048, 1)\n",
      "38\n"
     ]
    },
    {
     "name": "stderr",
     "output_type": "stream",
     "text": [
      "<ipython-input-45-9b59231d7783>:20: UserWarning: D:/AlexanderErnst/DeepLearning_ISV/Data/Predictions/UNetSeg_MAX_201217153949_20201218_drugscreen__FliV_Myl7mR_D02_D11_4x_BF_470_D002.tif.tif is a low contrast image\n",
      "  skimage.io.imsave(path_save+\"/UNetSeg_\"+i+\".tif\",preds_unseen_t)\n"
     ]
    },
    {
     "name": "stdout",
     "output_type": "stream",
     "text": [
      "1/1 [==============================] - 0s 115ms/step\n",
      "(1, 2048, 2048, 1)\n",
      "39\n"
     ]
    },
    {
     "name": "stderr",
     "output_type": "stream",
     "text": [
      "<ipython-input-45-9b59231d7783>:20: UserWarning: D:/AlexanderErnst/DeepLearning_ISV/Data/Predictions/UNetSeg_MAX_201217153949_20201218_drugscreen__FliV_Myl7mR_D02_D11_4x_BF_470_D003.tif.tif is a low contrast image\n",
      "  skimage.io.imsave(path_save+\"/UNetSeg_\"+i+\".tif\",preds_unseen_t)\n"
     ]
    },
    {
     "name": "stdout",
     "output_type": "stream",
     "text": [
      "1/1 [==============================] - 0s 98ms/step\n",
      "(1, 2048, 2048, 1)\n",
      "40\n"
     ]
    },
    {
     "name": "stderr",
     "output_type": "stream",
     "text": [
      "<ipython-input-45-9b59231d7783>:20: UserWarning: D:/AlexanderErnst/DeepLearning_ISV/Data/Predictions/UNetSeg_MAX_201217153949_20201218_drugscreen__FliV_Myl7mR_D02_D11_4x_BF_470_D004.tif.tif is a low contrast image\n",
      "  skimage.io.imsave(path_save+\"/UNetSeg_\"+i+\".tif\",preds_unseen_t)\n"
     ]
    },
    {
     "name": "stdout",
     "output_type": "stream",
     "text": [
      "1/1 [==============================] - 0s 107ms/step\n",
      "(1, 2048, 2048, 1)\n",
      "41\n"
     ]
    },
    {
     "name": "stderr",
     "output_type": "stream",
     "text": [
      "<ipython-input-45-9b59231d7783>:20: UserWarning: D:/AlexanderErnst/DeepLearning_ISV/Data/Predictions/UNetSeg_MAX_201217153949_20201218_drugscreen__FliV_Myl7mR_D02_D11_4x_BF_470_D005.tif.tif is a low contrast image\n",
      "  skimage.io.imsave(path_save+\"/UNetSeg_\"+i+\".tif\",preds_unseen_t)\n"
     ]
    },
    {
     "name": "stdout",
     "output_type": "stream",
     "text": [
      "1/1 [==============================] - 0s 103ms/step\n",
      "(1, 2048, 2048, 1)\n",
      "42\n"
     ]
    },
    {
     "name": "stderr",
     "output_type": "stream",
     "text": [
      "<ipython-input-45-9b59231d7783>:20: UserWarning: D:/AlexanderErnst/DeepLearning_ISV/Data/Predictions/UNetSeg_MAX_201217153949_20201218_drugscreen__FliV_Myl7mR_D02_D11_4x_BF_470_D006.tif.tif is a low contrast image\n",
      "  skimage.io.imsave(path_save+\"/UNetSeg_\"+i+\".tif\",preds_unseen_t)\n"
     ]
    },
    {
     "name": "stdout",
     "output_type": "stream",
     "text": [
      "1/1 [==============================] - 0s 98ms/step\n",
      "(1, 2048, 2048, 1)\n",
      "43\n"
     ]
    },
    {
     "name": "stderr",
     "output_type": "stream",
     "text": [
      "<ipython-input-45-9b59231d7783>:20: UserWarning: D:/AlexanderErnst/DeepLearning_ISV/Data/Predictions/UNetSeg_MAX_201217153949_20201218_drugscreen__FliV_Myl7mR_D02_D11_4x_BF_470_D007.tif.tif is a low contrast image\n",
      "  skimage.io.imsave(path_save+\"/UNetSeg_\"+i+\".tif\",preds_unseen_t)\n"
     ]
    },
    {
     "name": "stdout",
     "output_type": "stream",
     "text": [
      "1/1 [==============================] - 0s 96ms/step\n",
      "(1, 2048, 2048, 1)\n",
      "44\n"
     ]
    },
    {
     "name": "stderr",
     "output_type": "stream",
     "text": [
      "<ipython-input-45-9b59231d7783>:20: UserWarning: D:/AlexanderErnst/DeepLearning_ISV/Data/Predictions/UNetSeg_MAX_201217153949_20201218_drugscreen__FliV_Myl7mR_D02_D11_4x_BF_470_D008.tif.tif is a low contrast image\n",
      "  skimage.io.imsave(path_save+\"/UNetSeg_\"+i+\".tif\",preds_unseen_t)\n"
     ]
    },
    {
     "name": "stdout",
     "output_type": "stream",
     "text": [
      "1/1 [==============================] - 0s 103ms/step\n",
      "(1, 2048, 2048, 1)\n",
      "45\n"
     ]
    },
    {
     "name": "stderr",
     "output_type": "stream",
     "text": [
      "<ipython-input-45-9b59231d7783>:20: UserWarning: D:/AlexanderErnst/DeepLearning_ISV/Data/Predictions/UNetSeg_MAX_201217153949_20201218_drugscreen__FliV_Myl7mR_D02_D11_4x_BF_470_D009.tif.tif is a low contrast image\n",
      "  skimage.io.imsave(path_save+\"/UNetSeg_\"+i+\".tif\",preds_unseen_t)\n"
     ]
    },
    {
     "name": "stdout",
     "output_type": "stream",
     "text": [
      "1/1 [==============================] - 0s 102ms/step\n",
      "(1, 2048, 2048, 1)\n",
      "46\n"
     ]
    },
    {
     "name": "stderr",
     "output_type": "stream",
     "text": [
      "<ipython-input-45-9b59231d7783>:20: UserWarning: D:/AlexanderErnst/DeepLearning_ISV/Data/Predictions/UNetSeg_MAX_201217153949_20201218_drugscreen__FliV_Myl7mR_D02_D11_4x_BF_470_D010.tif.tif is a low contrast image\n",
      "  skimage.io.imsave(path_save+\"/UNetSeg_\"+i+\".tif\",preds_unseen_t)\n"
     ]
    },
    {
     "name": "stdout",
     "output_type": "stream",
     "text": [
      "1/1 [==============================] - 0s 106ms/step\n",
      "(1, 2048, 2048, 1)\n",
      "47\n"
     ]
    },
    {
     "name": "stderr",
     "output_type": "stream",
     "text": [
      "<ipython-input-45-9b59231d7783>:20: UserWarning: D:/AlexanderErnst/DeepLearning_ISV/Data/Predictions/UNetSeg_MAX_201217153949_20201218_drugscreen__FliV_Myl7mR_D02_D11_4x_BF_470_D011.tif.tif is a low contrast image\n",
      "  skimage.io.imsave(path_save+\"/UNetSeg_\"+i+\".tif\",preds_unseen_t)\n"
     ]
    },
    {
     "name": "stdout",
     "output_type": "stream",
     "text": [
      "1/1 [==============================] - 0s 107ms/step\n",
      "(1, 2048, 2048, 1)\n",
      "48\n"
     ]
    },
    {
     "name": "stderr",
     "output_type": "stream",
     "text": [
      "<ipython-input-45-9b59231d7783>:20: UserWarning: D:/AlexanderErnst/DeepLearning_ISV/Data/Predictions/UNetSeg_MAX_201217153949_20201218_drugscreen__FliV_Myl7mR_D02_D11_4x_BF_470_D012.tif.tif is a low contrast image\n",
      "  skimage.io.imsave(path_save+\"/UNetSeg_\"+i+\".tif\",preds_unseen_t)\n"
     ]
    },
    {
     "name": "stdout",
     "output_type": "stream",
     "text": [
      "1/1 [==============================] - 0s 101ms/step\n",
      "(1, 2048, 2048, 1)\n",
      "49\n"
     ]
    },
    {
     "name": "stderr",
     "output_type": "stream",
     "text": [
      "<ipython-input-45-9b59231d7783>:20: UserWarning: D:/AlexanderErnst/DeepLearning_ISV/Data/Predictions/UNetSeg_MAX_201217153949_20201218_drugscreen__FliV_Myl7mR_D02_D11_4x_BF_470_E001.tif.tif is a low contrast image\n",
      "  skimage.io.imsave(path_save+\"/UNetSeg_\"+i+\".tif\",preds_unseen_t)\n"
     ]
    },
    {
     "name": "stdout",
     "output_type": "stream",
     "text": [
      "1/1 [==============================] - 0s 107ms/step\n",
      "(1, 2048, 2048, 1)\n",
      "50\n"
     ]
    },
    {
     "name": "stderr",
     "output_type": "stream",
     "text": [
      "<ipython-input-45-9b59231d7783>:20: UserWarning: D:/AlexanderErnst/DeepLearning_ISV/Data/Predictions/UNetSeg_MAX_201217153949_20201218_drugscreen__FliV_Myl7mR_D02_D11_4x_BF_470_E002.tif.tif is a low contrast image\n",
      "  skimage.io.imsave(path_save+\"/UNetSeg_\"+i+\".tif\",preds_unseen_t)\n"
     ]
    },
    {
     "name": "stdout",
     "output_type": "stream",
     "text": [
      "1/1 [==============================] - 0s 94ms/step\n",
      "(1, 2048, 2048, 1)\n",
      "51\n"
     ]
    },
    {
     "name": "stderr",
     "output_type": "stream",
     "text": [
      "<ipython-input-45-9b59231d7783>:20: UserWarning: D:/AlexanderErnst/DeepLearning_ISV/Data/Predictions/UNetSeg_MAX_201217153949_20201218_drugscreen__FliV_Myl7mR_D02_D11_4x_BF_470_E003.tif.tif is a low contrast image\n",
      "  skimage.io.imsave(path_save+\"/UNetSeg_\"+i+\".tif\",preds_unseen_t)\n"
     ]
    },
    {
     "name": "stdout",
     "output_type": "stream",
     "text": [
      "1/1 [==============================] - 0s 103ms/step\n",
      "(1, 2048, 2048, 1)\n",
      "52\n"
     ]
    },
    {
     "name": "stderr",
     "output_type": "stream",
     "text": [
      "<ipython-input-45-9b59231d7783>:20: UserWarning: D:/AlexanderErnst/DeepLearning_ISV/Data/Predictions/UNetSeg_MAX_201217153949_20201218_drugscreen__FliV_Myl7mR_D02_D11_4x_BF_470_E004.tif.tif is a low contrast image\n",
      "  skimage.io.imsave(path_save+\"/UNetSeg_\"+i+\".tif\",preds_unseen_t)\n"
     ]
    },
    {
     "name": "stdout",
     "output_type": "stream",
     "text": [
      "1/1 [==============================] - 0s 106ms/step\n",
      "(1, 2048, 2048, 1)\n",
      "53\n"
     ]
    },
    {
     "name": "stderr",
     "output_type": "stream",
     "text": [
      "<ipython-input-45-9b59231d7783>:20: UserWarning: D:/AlexanderErnst/DeepLearning_ISV/Data/Predictions/UNetSeg_MAX_201217153949_20201218_drugscreen__FliV_Myl7mR_D02_D11_4x_BF_470_E005.tif.tif is a low contrast image\n",
      "  skimage.io.imsave(path_save+\"/UNetSeg_\"+i+\".tif\",preds_unseen_t)\n"
     ]
    },
    {
     "name": "stdout",
     "output_type": "stream",
     "text": [
      "1/1 [==============================] - 0s 105ms/step\n",
      "(1, 2048, 2048, 1)\n",
      "54\n"
     ]
    },
    {
     "name": "stderr",
     "output_type": "stream",
     "text": [
      "<ipython-input-45-9b59231d7783>:20: UserWarning: D:/AlexanderErnst/DeepLearning_ISV/Data/Predictions/UNetSeg_MAX_201217153949_20201218_drugscreen__FliV_Myl7mR_D02_D11_4x_BF_470_E006.tif.tif is a low contrast image\n",
      "  skimage.io.imsave(path_save+\"/UNetSeg_\"+i+\".tif\",preds_unseen_t)\n"
     ]
    },
    {
     "name": "stdout",
     "output_type": "stream",
     "text": [
      "1/1 [==============================] - 0s 111ms/step\n",
      "(1, 2048, 2048, 1)\n",
      "55\n"
     ]
    },
    {
     "name": "stderr",
     "output_type": "stream",
     "text": [
      "<ipython-input-45-9b59231d7783>:20: UserWarning: D:/AlexanderErnst/DeepLearning_ISV/Data/Predictions/UNetSeg_MAX_201217153949_20201218_drugscreen__FliV_Myl7mR_D02_D11_4x_BF_470_E007.tif.tif is a low contrast image\n",
      "  skimage.io.imsave(path_save+\"/UNetSeg_\"+i+\".tif\",preds_unseen_t)\n"
     ]
    },
    {
     "name": "stdout",
     "output_type": "stream",
     "text": [
      "1/1 [==============================] - 0s 96ms/step\n",
      "(1, 2048, 2048, 1)\n",
      "56\n"
     ]
    },
    {
     "name": "stderr",
     "output_type": "stream",
     "text": [
      "<ipython-input-45-9b59231d7783>:20: UserWarning: D:/AlexanderErnst/DeepLearning_ISV/Data/Predictions/UNetSeg_MAX_201217153949_20201218_drugscreen__FliV_Myl7mR_D02_D11_4x_BF_470_E008.tif.tif is a low contrast image\n",
      "  skimage.io.imsave(path_save+\"/UNetSeg_\"+i+\".tif\",preds_unseen_t)\n"
     ]
    },
    {
     "name": "stdout",
     "output_type": "stream",
     "text": [
      "1/1 [==============================] - 0s 93ms/step\n",
      "(1, 2048, 2048, 1)\n",
      "57\n"
     ]
    },
    {
     "name": "stderr",
     "output_type": "stream",
     "text": [
      "<ipython-input-45-9b59231d7783>:20: UserWarning: D:/AlexanderErnst/DeepLearning_ISV/Data/Predictions/UNetSeg_MAX_201217153949_20201218_drugscreen__FliV_Myl7mR_D02_D11_4x_BF_470_E009.tif.tif is a low contrast image\n",
      "  skimage.io.imsave(path_save+\"/UNetSeg_\"+i+\".tif\",preds_unseen_t)\n"
     ]
    },
    {
     "name": "stdout",
     "output_type": "stream",
     "text": [
      "1/1 [==============================] - 0s 96ms/step\n",
      "(1, 2048, 2048, 1)\n",
      "58\n"
     ]
    },
    {
     "name": "stderr",
     "output_type": "stream",
     "text": [
      "<ipython-input-45-9b59231d7783>:20: UserWarning: D:/AlexanderErnst/DeepLearning_ISV/Data/Predictions/UNetSeg_MAX_201217153949_20201218_drugscreen__FliV_Myl7mR_D02_D11_4x_BF_470_E010.tif.tif is a low contrast image\n",
      "  skimage.io.imsave(path_save+\"/UNetSeg_\"+i+\".tif\",preds_unseen_t)\n"
     ]
    },
    {
     "name": "stdout",
     "output_type": "stream",
     "text": [
      "1/1 [==============================] - 0s 101ms/step\n",
      "(1, 2048, 2048, 1)\n",
      "59\n"
     ]
    },
    {
     "name": "stderr",
     "output_type": "stream",
     "text": [
      "<ipython-input-45-9b59231d7783>:20: UserWarning: D:/AlexanderErnst/DeepLearning_ISV/Data/Predictions/UNetSeg_MAX_201217153949_20201218_drugscreen__FliV_Myl7mR_D02_D11_4x_BF_470_E011.tif.tif is a low contrast image\n",
      "  skimage.io.imsave(path_save+\"/UNetSeg_\"+i+\".tif\",preds_unseen_t)\n"
     ]
    },
    {
     "name": "stdout",
     "output_type": "stream",
     "text": [
      "1/1 [==============================] - 0s 98ms/step\n",
      "(1, 2048, 2048, 1)\n",
      "60\n"
     ]
    },
    {
     "name": "stderr",
     "output_type": "stream",
     "text": [
      "<ipython-input-45-9b59231d7783>:20: UserWarning: D:/AlexanderErnst/DeepLearning_ISV/Data/Predictions/UNetSeg_MAX_201217153949_20201218_drugscreen__FliV_Myl7mR_D02_D11_4x_BF_470_E012.tif.tif is a low contrast image\n",
      "  skimage.io.imsave(path_save+\"/UNetSeg_\"+i+\".tif\",preds_unseen_t)\n"
     ]
    },
    {
     "name": "stdout",
     "output_type": "stream",
     "text": [
      "1/1 [==============================] - 0s 96ms/step\n",
      "(1, 2048, 2048, 1)\n",
      "61\n"
     ]
    },
    {
     "name": "stderr",
     "output_type": "stream",
     "text": [
      "<ipython-input-45-9b59231d7783>:20: UserWarning: D:/AlexanderErnst/DeepLearning_ISV/Data/Predictions/UNetSeg_MAX_201217153949_20201218_drugscreen__FliV_Myl7mR_D02_D11_4x_BF_470_F001.tif.tif is a low contrast image\n",
      "  skimage.io.imsave(path_save+\"/UNetSeg_\"+i+\".tif\",preds_unseen_t)\n"
     ]
    },
    {
     "name": "stdout",
     "output_type": "stream",
     "text": [
      "1/1 [==============================] - 0s 95ms/step\n",
      "(1, 2048, 2048, 1)\n",
      "62\n"
     ]
    },
    {
     "name": "stderr",
     "output_type": "stream",
     "text": [
      "<ipython-input-45-9b59231d7783>:20: UserWarning: D:/AlexanderErnst/DeepLearning_ISV/Data/Predictions/UNetSeg_MAX_201217153949_20201218_drugscreen__FliV_Myl7mR_D02_D11_4x_BF_470_F002.tif.tif is a low contrast image\n",
      "  skimage.io.imsave(path_save+\"/UNetSeg_\"+i+\".tif\",preds_unseen_t)\n"
     ]
    },
    {
     "name": "stdout",
     "output_type": "stream",
     "text": [
      "1/1 [==============================] - 0s 95ms/step\n",
      "(1, 2048, 2048, 1)\n",
      "63\n"
     ]
    },
    {
     "name": "stderr",
     "output_type": "stream",
     "text": [
      "<ipython-input-45-9b59231d7783>:20: UserWarning: D:/AlexanderErnst/DeepLearning_ISV/Data/Predictions/UNetSeg_MAX_201217153949_20201218_drugscreen__FliV_Myl7mR_D02_D11_4x_BF_470_F003.tif.tif is a low contrast image\n",
      "  skimage.io.imsave(path_save+\"/UNetSeg_\"+i+\".tif\",preds_unseen_t)\n"
     ]
    },
    {
     "name": "stdout",
     "output_type": "stream",
     "text": [
      "1/1 [==============================] - 0s 92ms/step\n",
      "(1, 2048, 2048, 1)\n",
      "64\n"
     ]
    },
    {
     "name": "stderr",
     "output_type": "stream",
     "text": [
      "<ipython-input-45-9b59231d7783>:20: UserWarning: D:/AlexanderErnst/DeepLearning_ISV/Data/Predictions/UNetSeg_MAX_201217153949_20201218_drugscreen__FliV_Myl7mR_D02_D11_4x_BF_470_F004.tif.tif is a low contrast image\n",
      "  skimage.io.imsave(path_save+\"/UNetSeg_\"+i+\".tif\",preds_unseen_t)\n"
     ]
    },
    {
     "name": "stdout",
     "output_type": "stream",
     "text": [
      "1/1 [==============================] - 0s 96ms/step\n",
      "(1, 2048, 2048, 1)\n",
      "65\n"
     ]
    },
    {
     "name": "stderr",
     "output_type": "stream",
     "text": [
      "<ipython-input-45-9b59231d7783>:20: UserWarning: D:/AlexanderErnst/DeepLearning_ISV/Data/Predictions/UNetSeg_MAX_201217153949_20201218_drugscreen__FliV_Myl7mR_D02_D11_4x_BF_470_F005.tif.tif is a low contrast image\n",
      "  skimage.io.imsave(path_save+\"/UNetSeg_\"+i+\".tif\",preds_unseen_t)\n"
     ]
    },
    {
     "name": "stdout",
     "output_type": "stream",
     "text": [
      "1/1 [==============================] - 0s 102ms/step\n",
      "(1, 2048, 2048, 1)\n",
      "66\n"
     ]
    },
    {
     "name": "stderr",
     "output_type": "stream",
     "text": [
      "<ipython-input-45-9b59231d7783>:20: UserWarning: D:/AlexanderErnst/DeepLearning_ISV/Data/Predictions/UNetSeg_MAX_201217153949_20201218_drugscreen__FliV_Myl7mR_D02_D11_4x_BF_470_F006.tif.tif is a low contrast image\n",
      "  skimage.io.imsave(path_save+\"/UNetSeg_\"+i+\".tif\",preds_unseen_t)\n"
     ]
    },
    {
     "name": "stdout",
     "output_type": "stream",
     "text": [
      "1/1 [==============================] - 0s 85ms/step\n",
      "(1, 2048, 2048, 1)\n",
      "67\n"
     ]
    },
    {
     "name": "stderr",
     "output_type": "stream",
     "text": [
      "<ipython-input-45-9b59231d7783>:20: UserWarning: D:/AlexanderErnst/DeepLearning_ISV/Data/Predictions/UNetSeg_MAX_201217153949_20201218_drugscreen__FliV_Myl7mR_D02_D11_4x_BF_470_F007.tif.tif is a low contrast image\n",
      "  skimage.io.imsave(path_save+\"/UNetSeg_\"+i+\".tif\",preds_unseen_t)\n"
     ]
    },
    {
     "name": "stdout",
     "output_type": "stream",
     "text": [
      "1/1 [==============================] - 0s 99ms/step\n",
      "(1, 2048, 2048, 1)\n",
      "68\n"
     ]
    },
    {
     "name": "stderr",
     "output_type": "stream",
     "text": [
      "<ipython-input-45-9b59231d7783>:20: UserWarning: D:/AlexanderErnst/DeepLearning_ISV/Data/Predictions/UNetSeg_MAX_201217153949_20201218_drugscreen__FliV_Myl7mR_D02_D11_4x_BF_470_F008.tif.tif is a low contrast image\n",
      "  skimage.io.imsave(path_save+\"/UNetSeg_\"+i+\".tif\",preds_unseen_t)\n"
     ]
    },
    {
     "name": "stdout",
     "output_type": "stream",
     "text": [
      "1/1 [==============================] - 0s 93ms/step\n",
      "(1, 2048, 2048, 1)\n",
      "69\n"
     ]
    },
    {
     "name": "stderr",
     "output_type": "stream",
     "text": [
      "<ipython-input-45-9b59231d7783>:20: UserWarning: D:/AlexanderErnst/DeepLearning_ISV/Data/Predictions/UNetSeg_MAX_201217153949_20201218_drugscreen__FliV_Myl7mR_D02_D11_4x_BF_470_F009.tif.tif is a low contrast image\n",
      "  skimage.io.imsave(path_save+\"/UNetSeg_\"+i+\".tif\",preds_unseen_t)\n"
     ]
    },
    {
     "name": "stdout",
     "output_type": "stream",
     "text": [
      "1/1 [==============================] - 0s 92ms/step\n",
      "(1, 2048, 2048, 1)\n",
      "70\n"
     ]
    },
    {
     "name": "stderr",
     "output_type": "stream",
     "text": [
      "<ipython-input-45-9b59231d7783>:20: UserWarning: D:/AlexanderErnst/DeepLearning_ISV/Data/Predictions/UNetSeg_MAX_201217153949_20201218_drugscreen__FliV_Myl7mR_D02_D11_4x_BF_470_F010.tif.tif is a low contrast image\n",
      "  skimage.io.imsave(path_save+\"/UNetSeg_\"+i+\".tif\",preds_unseen_t)\n"
     ]
    },
    {
     "name": "stdout",
     "output_type": "stream",
     "text": [
      "1/1 [==============================] - 0s 84ms/step\n",
      "(1, 2048, 2048, 1)\n",
      "71\n"
     ]
    },
    {
     "name": "stderr",
     "output_type": "stream",
     "text": [
      "<ipython-input-45-9b59231d7783>:20: UserWarning: D:/AlexanderErnst/DeepLearning_ISV/Data/Predictions/UNetSeg_MAX_201217153949_20201218_drugscreen__FliV_Myl7mR_D02_D11_4x_BF_470_F011.tif.tif is a low contrast image\n",
      "  skimage.io.imsave(path_save+\"/UNetSeg_\"+i+\".tif\",preds_unseen_t)\n"
     ]
    },
    {
     "name": "stdout",
     "output_type": "stream",
     "text": [
      "1/1 [==============================] - 0s 94ms/step\n",
      "(1, 2048, 2048, 1)\n",
      "72\n"
     ]
    },
    {
     "name": "stderr",
     "output_type": "stream",
     "text": [
      "<ipython-input-45-9b59231d7783>:20: UserWarning: D:/AlexanderErnst/DeepLearning_ISV/Data/Predictions/UNetSeg_MAX_201217153949_20201218_drugscreen__FliV_Myl7mR_D02_D11_4x_BF_470_F012.tif.tif is a low contrast image\n",
      "  skimage.io.imsave(path_save+\"/UNetSeg_\"+i+\".tif\",preds_unseen_t)\n"
     ]
    },
    {
     "name": "stdout",
     "output_type": "stream",
     "text": [
      "1/1 [==============================] - 0s 114ms/step\n",
      "(1, 2048, 2048, 1)\n",
      "73\n"
     ]
    },
    {
     "name": "stderr",
     "output_type": "stream",
     "text": [
      "<ipython-input-45-9b59231d7783>:20: UserWarning: D:/AlexanderErnst/DeepLearning_ISV/Data/Predictions/UNetSeg_MAX_201217153949_20201218_drugscreen__FliV_Myl7mR_D02_D11_4x_BF_470_G001.tif.tif is a low contrast image\n",
      "  skimage.io.imsave(path_save+\"/UNetSeg_\"+i+\".tif\",preds_unseen_t)\n"
     ]
    },
    {
     "name": "stdout",
     "output_type": "stream",
     "text": [
      "1/1 [==============================] - 0s 109ms/step\n",
      "(1, 2048, 2048, 1)\n",
      "74\n"
     ]
    },
    {
     "name": "stderr",
     "output_type": "stream",
     "text": [
      "<ipython-input-45-9b59231d7783>:20: UserWarning: D:/AlexanderErnst/DeepLearning_ISV/Data/Predictions/UNetSeg_MAX_201217153949_20201218_drugscreen__FliV_Myl7mR_D02_D11_4x_BF_470_G002.tif.tif is a low contrast image\n",
      "  skimage.io.imsave(path_save+\"/UNetSeg_\"+i+\".tif\",preds_unseen_t)\n"
     ]
    },
    {
     "name": "stdout",
     "output_type": "stream",
     "text": [
      "1/1 [==============================] - 0s 106ms/step\n",
      "(1, 2048, 2048, 1)\n",
      "75\n"
     ]
    },
    {
     "name": "stderr",
     "output_type": "stream",
     "text": [
      "<ipython-input-45-9b59231d7783>:20: UserWarning: D:/AlexanderErnst/DeepLearning_ISV/Data/Predictions/UNetSeg_MAX_201217153949_20201218_drugscreen__FliV_Myl7mR_D02_D11_4x_BF_470_G003.tif.tif is a low contrast image\n",
      "  skimage.io.imsave(path_save+\"/UNetSeg_\"+i+\".tif\",preds_unseen_t)\n"
     ]
    },
    {
     "name": "stdout",
     "output_type": "stream",
     "text": [
      "1/1 [==============================] - 0s 111ms/step\n",
      "(1, 2048, 2048, 1)\n",
      "76\n"
     ]
    },
    {
     "name": "stderr",
     "output_type": "stream",
     "text": [
      "<ipython-input-45-9b59231d7783>:20: UserWarning: D:/AlexanderErnst/DeepLearning_ISV/Data/Predictions/UNetSeg_MAX_201217153949_20201218_drugscreen__FliV_Myl7mR_D02_D11_4x_BF_470_G004.tif.tif is a low contrast image\n",
      "  skimage.io.imsave(path_save+\"/UNetSeg_\"+i+\".tif\",preds_unseen_t)\n"
     ]
    },
    {
     "name": "stdout",
     "output_type": "stream",
     "text": [
      "1/1 [==============================] - 0s 103ms/step\n",
      "(1, 2048, 2048, 1)\n",
      "77\n"
     ]
    },
    {
     "name": "stderr",
     "output_type": "stream",
     "text": [
      "<ipython-input-45-9b59231d7783>:20: UserWarning: D:/AlexanderErnst/DeepLearning_ISV/Data/Predictions/UNetSeg_MAX_201217153949_20201218_drugscreen__FliV_Myl7mR_D02_D11_4x_BF_470_G005.tif.tif is a low contrast image\n",
      "  skimage.io.imsave(path_save+\"/UNetSeg_\"+i+\".tif\",preds_unseen_t)\n"
     ]
    },
    {
     "name": "stdout",
     "output_type": "stream",
     "text": [
      "1/1 [==============================] - 0s 113ms/step\n",
      "(1, 2048, 2048, 1)\n",
      "78\n"
     ]
    },
    {
     "name": "stderr",
     "output_type": "stream",
     "text": [
      "<ipython-input-45-9b59231d7783>:20: UserWarning: D:/AlexanderErnst/DeepLearning_ISV/Data/Predictions/UNetSeg_MAX_201217153949_20201218_drugscreen__FliV_Myl7mR_D02_D11_4x_BF_470_G006.tif.tif is a low contrast image\n",
      "  skimage.io.imsave(path_save+\"/UNetSeg_\"+i+\".tif\",preds_unseen_t)\n"
     ]
    },
    {
     "name": "stdout",
     "output_type": "stream",
     "text": [
      "1/1 [==============================] - 0s 102ms/step\n",
      "(1, 2048, 2048, 1)\n",
      "79\n"
     ]
    },
    {
     "name": "stderr",
     "output_type": "stream",
     "text": [
      "<ipython-input-45-9b59231d7783>:20: UserWarning: D:/AlexanderErnst/DeepLearning_ISV/Data/Predictions/UNetSeg_MAX_201217153949_20201218_drugscreen__FliV_Myl7mR_D02_D11_4x_BF_470_G007.tif.tif is a low contrast image\n",
      "  skimage.io.imsave(path_save+\"/UNetSeg_\"+i+\".tif\",preds_unseen_t)\n"
     ]
    },
    {
     "name": "stdout",
     "output_type": "stream",
     "text": [
      "1/1 [==============================] - 0s 106ms/step\n",
      "(1, 2048, 2048, 1)\n",
      "80\n"
     ]
    },
    {
     "name": "stderr",
     "output_type": "stream",
     "text": [
      "<ipython-input-45-9b59231d7783>:20: UserWarning: D:/AlexanderErnst/DeepLearning_ISV/Data/Predictions/UNetSeg_MAX_201217153949_20201218_drugscreen__FliV_Myl7mR_D02_D11_4x_BF_470_G008.tif.tif is a low contrast image\n",
      "  skimage.io.imsave(path_save+\"/UNetSeg_\"+i+\".tif\",preds_unseen_t)\n"
     ]
    },
    {
     "name": "stdout",
     "output_type": "stream",
     "text": [
      "1/1 [==============================] - 0s 108ms/step\n",
      "(1, 2048, 2048, 1)\n",
      "81\n"
     ]
    },
    {
     "name": "stderr",
     "output_type": "stream",
     "text": [
      "<ipython-input-45-9b59231d7783>:20: UserWarning: D:/AlexanderErnst/DeepLearning_ISV/Data/Predictions/UNetSeg_MAX_201217153949_20201218_drugscreen__FliV_Myl7mR_D02_D11_4x_BF_470_G009.tif.tif is a low contrast image\n",
      "  skimage.io.imsave(path_save+\"/UNetSeg_\"+i+\".tif\",preds_unseen_t)\n"
     ]
    },
    {
     "name": "stdout",
     "output_type": "stream",
     "text": [
      "1/1 [==============================] - 0s 107ms/step\n",
      "(1, 2048, 2048, 1)\n",
      "82\n"
     ]
    },
    {
     "name": "stderr",
     "output_type": "stream",
     "text": [
      "<ipython-input-45-9b59231d7783>:20: UserWarning: D:/AlexanderErnst/DeepLearning_ISV/Data/Predictions/UNetSeg_MAX_201217153949_20201218_drugscreen__FliV_Myl7mR_D02_D11_4x_BF_470_G010.tif.tif is a low contrast image\n",
      "  skimage.io.imsave(path_save+\"/UNetSeg_\"+i+\".tif\",preds_unseen_t)\n"
     ]
    },
    {
     "name": "stdout",
     "output_type": "stream",
     "text": [
      "1/1 [==============================] - 0s 108ms/step\n",
      "(1, 2048, 2048, 1)\n",
      "83\n"
     ]
    },
    {
     "name": "stderr",
     "output_type": "stream",
     "text": [
      "<ipython-input-45-9b59231d7783>:20: UserWarning: D:/AlexanderErnst/DeepLearning_ISV/Data/Predictions/UNetSeg_MAX_201217153949_20201218_drugscreen__FliV_Myl7mR_D02_D11_4x_BF_470_G011.tif.tif is a low contrast image\n",
      "  skimage.io.imsave(path_save+\"/UNetSeg_\"+i+\".tif\",preds_unseen_t)\n"
     ]
    },
    {
     "name": "stdout",
     "output_type": "stream",
     "text": [
      "1/1 [==============================] - 0s 104ms/step\n",
      "(1, 2048, 2048, 1)\n",
      "84\n"
     ]
    },
    {
     "name": "stderr",
     "output_type": "stream",
     "text": [
      "<ipython-input-45-9b59231d7783>:20: UserWarning: D:/AlexanderErnst/DeepLearning_ISV/Data/Predictions/UNetSeg_MAX_201217153949_20201218_drugscreen__FliV_Myl7mR_D02_D11_4x_BF_470_G012.tif.tif is a low contrast image\n",
      "  skimage.io.imsave(path_save+\"/UNetSeg_\"+i+\".tif\",preds_unseen_t)\n"
     ]
    },
    {
     "name": "stdout",
     "output_type": "stream",
     "text": [
      "1/1 [==============================] - 0s 102ms/step\n",
      "(1, 2048, 2048, 1)\n",
      "85\n"
     ]
    },
    {
     "name": "stderr",
     "output_type": "stream",
     "text": [
      "<ipython-input-45-9b59231d7783>:20: UserWarning: D:/AlexanderErnst/DeepLearning_ISV/Data/Predictions/UNetSeg_MAX_201217153949_20201218_drugscreen__FliV_Myl7mR_D02_D11_4x_BF_470_H001.tif.tif is a low contrast image\n",
      "  skimage.io.imsave(path_save+\"/UNetSeg_\"+i+\".tif\",preds_unseen_t)\n"
     ]
    },
    {
     "name": "stdout",
     "output_type": "stream",
     "text": [
      "1/1 [==============================] - 0s 100ms/step\n",
      "(1, 2048, 2048, 1)\n",
      "86\n"
     ]
    },
    {
     "name": "stderr",
     "output_type": "stream",
     "text": [
      "<ipython-input-45-9b59231d7783>:20: UserWarning: D:/AlexanderErnst/DeepLearning_ISV/Data/Predictions/UNetSeg_MAX_201217153949_20201218_drugscreen__FliV_Myl7mR_D02_D11_4x_BF_470_H002.tif.tif is a low contrast image\n",
      "  skimage.io.imsave(path_save+\"/UNetSeg_\"+i+\".tif\",preds_unseen_t)\n"
     ]
    },
    {
     "name": "stdout",
     "output_type": "stream",
     "text": [
      "1/1 [==============================] - 0s 113ms/step\n",
      "(1, 2048, 2048, 1)\n",
      "87\n"
     ]
    },
    {
     "name": "stderr",
     "output_type": "stream",
     "text": [
      "<ipython-input-45-9b59231d7783>:20: UserWarning: D:/AlexanderErnst/DeepLearning_ISV/Data/Predictions/UNetSeg_MAX_201217153949_20201218_drugscreen__FliV_Myl7mR_D02_D11_4x_BF_470_H003.tif.tif is a low contrast image\n",
      "  skimage.io.imsave(path_save+\"/UNetSeg_\"+i+\".tif\",preds_unseen_t)\n"
     ]
    },
    {
     "name": "stdout",
     "output_type": "stream",
     "text": [
      "1/1 [==============================] - 0s 101ms/step\n",
      "(1, 2048, 2048, 1)\n",
      "88\n"
     ]
    },
    {
     "name": "stderr",
     "output_type": "stream",
     "text": [
      "<ipython-input-45-9b59231d7783>:20: UserWarning: D:/AlexanderErnst/DeepLearning_ISV/Data/Predictions/UNetSeg_MAX_201217153949_20201218_drugscreen__FliV_Myl7mR_D02_D11_4x_BF_470_H004.tif.tif is a low contrast image\n",
      "  skimage.io.imsave(path_save+\"/UNetSeg_\"+i+\".tif\",preds_unseen_t)\n"
     ]
    },
    {
     "name": "stdout",
     "output_type": "stream",
     "text": [
      "1/1 [==============================] - 0s 102ms/step\n",
      "(1, 2048, 2048, 1)\n",
      "89\n"
     ]
    },
    {
     "name": "stderr",
     "output_type": "stream",
     "text": [
      "<ipython-input-45-9b59231d7783>:20: UserWarning: D:/AlexanderErnst/DeepLearning_ISV/Data/Predictions/UNetSeg_MAX_201217153949_20201218_drugscreen__FliV_Myl7mR_D02_D11_4x_BF_470_H005.tif.tif is a low contrast image\n",
      "  skimage.io.imsave(path_save+\"/UNetSeg_\"+i+\".tif\",preds_unseen_t)\n"
     ]
    },
    {
     "name": "stdout",
     "output_type": "stream",
     "text": [
      "1/1 [==============================] - 0s 108ms/step\n",
      "(1, 2048, 2048, 1)\n",
      "90\n"
     ]
    },
    {
     "name": "stderr",
     "output_type": "stream",
     "text": [
      "<ipython-input-45-9b59231d7783>:20: UserWarning: D:/AlexanderErnst/DeepLearning_ISV/Data/Predictions/UNetSeg_MAX_201217153949_20201218_drugscreen__FliV_Myl7mR_D02_D11_4x_BF_470_H006.tif.tif is a low contrast image\n",
      "  skimage.io.imsave(path_save+\"/UNetSeg_\"+i+\".tif\",preds_unseen_t)\n"
     ]
    },
    {
     "name": "stdout",
     "output_type": "stream",
     "text": [
      "1/1 [==============================] - 0s 104ms/step\n",
      "(1, 2048, 2048, 1)\n",
      "91\n"
     ]
    },
    {
     "name": "stderr",
     "output_type": "stream",
     "text": [
      "<ipython-input-45-9b59231d7783>:20: UserWarning: D:/AlexanderErnst/DeepLearning_ISV/Data/Predictions/UNetSeg_MAX_201217153949_20201218_drugscreen__FliV_Myl7mR_D02_D11_4x_BF_470_H007.tif.tif is a low contrast image\n",
      "  skimage.io.imsave(path_save+\"/UNetSeg_\"+i+\".tif\",preds_unseen_t)\n"
     ]
    },
    {
     "name": "stdout",
     "output_type": "stream",
     "text": [
      "1/1 [==============================] - 0s 102ms/step\n",
      "(1, 2048, 2048, 1)\n",
      "92\n"
     ]
    },
    {
     "name": "stderr",
     "output_type": "stream",
     "text": [
      "<ipython-input-45-9b59231d7783>:20: UserWarning: D:/AlexanderErnst/DeepLearning_ISV/Data/Predictions/UNetSeg_MAX_201217153949_20201218_drugscreen__FliV_Myl7mR_D02_D11_4x_BF_470_H008.tif.tif is a low contrast image\n",
      "  skimage.io.imsave(path_save+\"/UNetSeg_\"+i+\".tif\",preds_unseen_t)\n"
     ]
    },
    {
     "name": "stdout",
     "output_type": "stream",
     "text": [
      "1/1 [==============================] - 0s 106ms/step\n",
      "(1, 2048, 2048, 1)\n",
      "93\n"
     ]
    },
    {
     "name": "stderr",
     "output_type": "stream",
     "text": [
      "<ipython-input-45-9b59231d7783>:20: UserWarning: D:/AlexanderErnst/DeepLearning_ISV/Data/Predictions/UNetSeg_MAX_201217153949_20201218_drugscreen__FliV_Myl7mR_D02_D11_4x_BF_470_H009.tif.tif is a low contrast image\n",
      "  skimage.io.imsave(path_save+\"/UNetSeg_\"+i+\".tif\",preds_unseen_t)\n"
     ]
    },
    {
     "name": "stdout",
     "output_type": "stream",
     "text": [
      "1/1 [==============================] - 0s 97ms/step\n",
      "(1, 2048, 2048, 1)\n",
      "94\n"
     ]
    },
    {
     "name": "stderr",
     "output_type": "stream",
     "text": [
      "<ipython-input-45-9b59231d7783>:20: UserWarning: D:/AlexanderErnst/DeepLearning_ISV/Data/Predictions/UNetSeg_MAX_201217153949_20201218_drugscreen__FliV_Myl7mR_D02_D11_4x_BF_470_H010.tif.tif is a low contrast image\n",
      "  skimage.io.imsave(path_save+\"/UNetSeg_\"+i+\".tif\",preds_unseen_t)\n"
     ]
    },
    {
     "name": "stdout",
     "output_type": "stream",
     "text": [
      "1/1 [==============================] - 0s 99ms/step\n",
      "(1, 2048, 2048, 1)\n",
      "95\n"
     ]
    },
    {
     "name": "stderr",
     "output_type": "stream",
     "text": [
      "<ipython-input-45-9b59231d7783>:20: UserWarning: D:/AlexanderErnst/DeepLearning_ISV/Data/Predictions/UNetSeg_MAX_201217153949_20201218_drugscreen__FliV_Myl7mR_D02_D11_4x_BF_470_H011.tif.tif is a low contrast image\n",
      "  skimage.io.imsave(path_save+\"/UNetSeg_\"+i+\".tif\",preds_unseen_t)\n"
     ]
    },
    {
     "name": "stdout",
     "output_type": "stream",
     "text": [
      "1/1 [==============================] - 0s 100ms/step\n",
      "(1, 2048, 2048, 1)\n",
      "96\n"
     ]
    },
    {
     "name": "stderr",
     "output_type": "stream",
     "text": [
      "<ipython-input-45-9b59231d7783>:20: UserWarning: D:/AlexanderErnst/DeepLearning_ISV/Data/Predictions/UNetSeg_MAX_201217153949_20201218_drugscreen__FliV_Myl7mR_D02_D11_4x_BF_470_H012.tif.tif is a low contrast image\n",
      "  skimage.io.imsave(path_save+\"/UNetSeg_\"+i+\".tif\",preds_unseen_t)\n"
     ]
    }
   ],
   "source": [
    "path_im=\"D:/AlexanderErnst/DeepLearning_ISV/Data/Max_projections\"\n",
    "path_sa=\"D:/AlexanderErnst/DeepLearning_ISV/Data/Predictions\"\n",
    "f_size=2048\n",
    "predictions=model_predictions(path_im,path_sa,f_size)"
   ]
  },
  {
   "cell_type": "code",
   "execution_count": 19,
   "metadata": {},
   "outputs": [
    {
     "name": "stdout",
     "output_type": "stream",
     "text": [
      "2/2 [==============================] - 4s 1s/step\n"
     ]
    }
   ],
   "source": [
    "preds_test = model.predict(val_data, verbose=1)"
   ]
  },
  {
   "cell_type": "code",
   "execution_count": 42,
   "metadata": {},
   "outputs": [
    {
     "data": {
      "image/png": "[encoded data removed]",
      "text/plain": [
       "<Figure size 720x720 with 3 Axes>"
      ]
     },
     "metadata": {
      "needs_background": "light"
     },
     "output_type": "display_data"
    },
    {
     "name": "stderr",
     "output_type": "stream",
     "text": [
      "<ipython-input-42-b70f84152baa>:13: UserWarning: UNetSeg_.tif is a low contrast image\n",
      "  skimage.io.imsave(\"UNetSeg_.tif\",preds_unseen_t)\n"
     ]
    }
   ],
   "source": [
    "preds_unseen_t = (preds_unseen > 0.001).astype(np.uint8)\n",
    "number=1\n",
    "fig = plt.figure(figsize=(10, 10))\n",
    "plt.subplot(221)\n",
    "\n",
    "plt.imshow(X_unseen[number,:,:], cmap=plt.get_cmap('gray'))\n",
    "plt.subplot(222)\n",
    "plt.imshow(preds_unseen[number, :, :], cmap=plt.get_cmap('gray'))\n",
    "plt.subplot(224)\n",
    "plt.imshow(preds_unseen_t[number, :, :], cmap=plt.get_cmap('gray'))\n",
    "# show the plot\n",
    "plt.show()\n",
    "skimage.io.imsave(\"UNetSeg_.tif\",preds_unseen_t)"
   ]
  },
  {
   "cell_type": "code",
   "execution_count": 65,
   "metadata": {},
   "outputs": [
    {
     "data": {
      "image/png": "[encoded data removed]",
      "text/plain": [
       "<Figure size 720x720 with 4 Axes>"
      ]
     },
     "metadata": {
      "needs_background": "light"
     },
     "output_type": "display_data"
    }
   ],
   "source": [
    "preds_test_t = (preds_test > 0.45).astype(np.uint8)\n",
    "number=38\n",
    "fig = plt.figure(figsize=(10, 10))\n",
    "plt.subplot(221)\n",
    "plt.imshow(val_data[number,:,:], cmap=plt.get_cmap('gray'))\n",
    "plt.subplot(222)\n",
    "plt.imshow(val_labels[number, :, :], cmap=plt.get_cmap('gray'))\n",
    "plt.subplot(223)\n",
    "plt.imshow(preds_test[number, :, :], cmap=plt.get_cmap('gray'))\n",
    "plt.subplot(224)\n",
    "plt.imshow(preds_test_t[number, :, :], cmap=plt.get_cmap('gray'))\n",
    "# show the plot\n",
    "plt.show()"
   ]
  },
  {
   "cell_type": "markdown",
   "metadata": {
    "id": "p2wuFYJfYx75"
   },
   "source": [
    "# Neuer Abschnitt"
   ]
  }
 ],
 "metadata": {
  "accelerator": "GPU",
  "colab": {
   "name": "Untitled0.ipynb",
   "provenance": [],
   "toc_visible": true
  },
  "kernelspec": {
   "display_name": "Python 3 (ipykernel)",
   "language": "python",
   "name": "python3"
  },
  "language_info": {
   "codemirror_mode": {
    "name": "ipython",
    "version": 3
   },
   "file_extension": ".py",
   "mimetype": "text/x-python",
   "name": "python",
   "nbconvert_exporter": "python",
   "pygments_lexer": "ipython3",
   "version": "3.9.6"
  },
  "widgets": {
   "application/vnd.jupyter.widget-state+json": {
    "109b5c7468e4409795c09a77e0fc6ed3": {
     "model_module": "@jupyter-widgets/controls",
     "model_name": "HTMLModel",
     "state": {
      "_dom_classes": [],
      "_model_module": "@jupyter-widgets/controls",
      "_model_module_version": "1.5.0",
      "_model_name": "HTMLModel",
      "_view_count": null,
      "_view_module": "@jupyter-widgets/controls",
      "_view_module_version": "1.5.0",
      "_view_name": "HTMLView",
      "description": "",
      "description_tooltip": null,
      "layout": "IPY_MODEL_83b9ff6f2d864f8ebcbe00d8ea6c6548",
      "placeholder": "​",
      "style": "IPY_MODEL_4eeb7f7c263a4025ba66ad6694b41e07",
      "value": " 3/3 [00:00&lt;00:00,  5.76it/s]"
     }
    },
    "19af7e196cf34082904644e841bada13": {
     "model_module": "@jupyter-widgets/base",
     "model_name": "LayoutModel",
     "state": {
      "_model_module": "@jupyter-widgets/base",
      "_model_module_version": "1.2.0",
      "_model_name": "LayoutModel",
      "_view_count": null,
      "_view_module": "@jupyter-widgets/base",
      "_view_module_version": "1.2.0",
      "_view_name": "LayoutView",
      "align_content": null,
      "align_items": null,
      "align_self": null,
      "border": null,
      "bottom": null,
      "display": null,
      "flex": null,
      "flex_flow": null,
      "grid_area": null,
      "grid_auto_columns": null,
      "grid_auto_flow": null,
      "grid_auto_rows": null,
      "grid_column": null,
      "grid_gap": null,
      "grid_row": null,
      "grid_template_areas": null,
      "grid_template_columns": null,
      "grid_template_rows": null,
      "height": null,
      "justify_content": null,
      "justify_items": null,
      "left": null,
      "margin": null,
      "max_height": null,
      "max_width": null,
      "min_height": null,
      "min_width": null,
      "object_fit": null,
      "object_position": null,
      "order": null,
      "overflow": null,
      "overflow_x": null,
      "overflow_y": null,
      "padding": null,
      "right": null,
      "top": null,
      "visibility": null,
      "width": null
     }
    },
    "366cf856bb7642f3b60a66ac15bca8c4": {
     "model_module": "@jupyter-widgets/base",
     "model_name": "LayoutModel",
     "state": {
      "_model_module": "@jupyter-widgets/base",
      "_model_module_version": "1.2.0",
      "_model_name": "LayoutModel",
      "_view_count": null,
      "_view_module": "@jupyter-widgets/base",
      "_view_module_version": "1.2.0",
      "_view_name": "LayoutView",
      "align_content": null,
      "align_items": null,
      "align_self": null,
      "border": null,
      "bottom": null,
      "display": null,
      "flex": null,
      "flex_flow": null,
      "grid_area": null,
      "grid_auto_columns": null,
      "grid_auto_flow": null,
      "grid_auto_rows": null,
      "grid_column": null,
      "grid_gap": null,
      "grid_row": null,
      "grid_template_areas": null,
      "grid_template_columns": null,
      "grid_template_rows": null,
      "height": null,
      "justify_content": null,
      "justify_items": null,
      "left": null,
      "margin": null,
      "max_height": null,
      "max_width": null,
      "min_height": null,
      "min_width": null,
      "object_fit": null,
      "object_position": null,
      "order": null,
      "overflow": null,
      "overflow_x": null,
      "overflow_y": null,
      "padding": null,
      "right": null,
      "top": null,
      "visibility": null,
      "width": null
     }
    },
    "4eeb7f7c263a4025ba66ad6694b41e07": {
     "model_module": "@jupyter-widgets/controls",
     "model_name": "DescriptionStyleModel",
     "state": {
      "_model_module": "@jupyter-widgets/controls",
      "_model_module_version": "1.5.0",
      "_model_name": "DescriptionStyleModel",
      "_view_count": null,
      "_view_module": "@jupyter-widgets/base",
      "_view_module_version": "1.2.0",
      "_view_name": "StyleView",
      "description_width": ""
     }
    },
    "59c76df2feec4497aeef4a9aa31732eb": {
     "model_module": "@jupyter-widgets/controls",
     "model_name": "FloatProgressModel",
     "state": {
      "_dom_classes": [],
      "_model_module": "@jupyter-widgets/controls",
      "_model_module_version": "1.5.0",
      "_model_name": "FloatProgressModel",
      "_view_count": null,
      "_view_module": "@jupyter-widgets/controls",
      "_view_module_version": "1.5.0",
      "_view_name": "ProgressView",
      "bar_style": "success",
      "description": "100%",
      "description_tooltip": null,
      "layout": "IPY_MODEL_9b398a21cd394df69951ef6f06252738",
      "max": 1,
      "min": 0,
      "orientation": "horizontal",
      "style": "IPY_MODEL_b73c51b4a0774c468a4d7f9eaae4dba4",
      "value": 1
     }
    },
    "682f6df417364477bdf51ad990ec5597": {
     "model_module": "@jupyter-widgets/base",
     "model_name": "LayoutModel",
     "state": {
      "_model_module": "@jupyter-widgets/base",
      "_model_module_version": "1.2.0",
      "_model_name": "LayoutModel",
      "_view_count": null,
      "_view_module": "@jupyter-widgets/base",
      "_view_module_version": "1.2.0",
      "_view_name": "LayoutView",
      "align_content": null,
      "align_items": null,
      "align_self": null,
      "border": null,
      "bottom": null,
      "display": null,
      "flex": null,
      "flex_flow": null,
      "grid_area": null,
      "grid_auto_columns": null,
      "grid_auto_flow": null,
      "grid_auto_rows": null,
      "grid_column": null,
      "grid_gap": null,
      "grid_row": null,
      "grid_template_areas": null,
      "grid_template_columns": null,
      "grid_template_rows": null,
      "height": null,
      "justify_content": null,
      "justify_items": null,
      "left": null,
      "margin": null,
      "max_height": null,
      "max_width": null,
      "min_height": null,
      "min_width": null,
      "object_fit": null,
      "object_position": null,
      "order": null,
      "overflow": null,
      "overflow_x": null,
      "overflow_y": null,
      "padding": null,
      "right": null,
      "top": null,
      "visibility": null,
      "width": null
     }
    },
    "83b9ff6f2d864f8ebcbe00d8ea6c6548": {
     "model_module": "@jupyter-widgets/base",
     "model_name": "LayoutModel",
     "state": {
      "_model_module": "@jupyter-widgets/base",
      "_model_module_version": "1.2.0",
      "_model_name": "LayoutModel",
      "_view_count": null,
      "_view_module": "@jupyter-widgets/base",
      "_view_module_version": "1.2.0",
      "_view_name": "LayoutView",
      "align_content": null,
      "align_items": null,
      "align_self": null,
      "border": null,
      "bottom": null,
      "display": null,
      "flex": null,
      "flex_flow": null,
      "grid_area": null,
      "grid_auto_columns": null,
      "grid_auto_flow": null,
      "grid_auto_rows": null,
      "grid_column": null,
      "grid_gap": null,
      "grid_row": null,
      "grid_template_areas": null,
      "grid_template_columns": null,
      "grid_template_rows": null,
      "height": null,
      "justify_content": null,
      "justify_items": null,
      "left": null,
      "margin": null,
      "max_height": null,
      "max_width": null,
      "min_height": null,
      "min_width": null,
      "object_fit": null,
      "object_position": null,
      "order": null,
      "overflow": null,
      "overflow_x": null,
      "overflow_y": null,
      "padding": null,
      "right": null,
      "top": null,
      "visibility": null,
      "width": null
     }
    },
    "8c5083249290442e96682b0a52594403": {
     "model_module": "@jupyter-widgets/controls",
     "model_name": "HTMLModel",
     "state": {
      "_dom_classes": [],
      "_model_module": "@jupyter-widgets/controls",
      "_model_module_version": "1.5.0",
      "_model_name": "HTMLModel",
      "_view_count": null,
      "_view_module": "@jupyter-widgets/controls",
      "_view_module_version": "1.5.0",
      "_view_name": "HTMLView",
      "description": "",
      "description_tooltip": null,
      "layout": "IPY_MODEL_366cf856bb7642f3b60a66ac15bca8c4",
      "placeholder": "​",
      "style": "IPY_MODEL_9a429f13151443ac9eb14b3da75b1a08",
      "value": " 1/1 [00:00&lt;00:00,  6.99it/s]"
     }
    },
    "9a429f13151443ac9eb14b3da75b1a08": {
     "model_module": "@jupyter-widgets/controls",
     "model_name": "DescriptionStyleModel",
     "state": {
      "_model_module": "@jupyter-widgets/controls",
      "_model_module_version": "1.5.0",
      "_model_name": "DescriptionStyleModel",
      "_view_count": null,
      "_view_module": "@jupyter-widgets/base",
      "_view_module_version": "1.2.0",
      "_view_name": "StyleView",
      "description_width": ""
     }
    },
    "9a74dea679504d26baba499517369d70": {
     "model_module": "@jupyter-widgets/controls",
     "model_name": "HBoxModel",
     "state": {
      "_dom_classes": [],
      "_model_module": "@jupyter-widgets/controls",
      "_model_module_version": "1.5.0",
      "_model_name": "HBoxModel",
      "_view_count": null,
      "_view_module": "@jupyter-widgets/controls",
      "_view_module_version": "1.5.0",
      "_view_name": "HBoxView",
      "box_style": "",
      "children": [
       "IPY_MODEL_59c76df2feec4497aeef4a9aa31732eb",
       "IPY_MODEL_8c5083249290442e96682b0a52594403"
      ],
      "layout": "IPY_MODEL_e8fa4ff5c8ab401d9a692bfe701271c8"
     }
    },
    "9b398a21cd394df69951ef6f06252738": {
     "model_module": "@jupyter-widgets/base",
     "model_name": "LayoutModel",
     "state": {
      "_model_module": "@jupyter-widgets/base",
      "_model_module_version": "1.2.0",
      "_model_name": "LayoutModel",
      "_view_count": null,
      "_view_module": "@jupyter-widgets/base",
      "_view_module_version": "1.2.0",
      "_view_name": "LayoutView",
      "align_content": null,
      "align_items": null,
      "align_self": null,
      "border": null,
      "bottom": null,
      "display": null,
      "flex": null,
      "flex_flow": null,
      "grid_area": null,
      "grid_auto_columns": null,
      "grid_auto_flow": null,
      "grid_auto_rows": null,
      "grid_column": null,
      "grid_gap": null,
      "grid_row": null,
      "grid_template_areas": null,
      "grid_template_columns": null,
      "grid_template_rows": null,
      "height": null,
      "justify_content": null,
      "justify_items": null,
      "left": null,
      "margin": null,
      "max_height": null,
      "max_width": null,
      "min_height": null,
      "min_width": null,
      "object_fit": null,
      "object_position": null,
      "order": null,
      "overflow": null,
      "overflow_x": null,
      "overflow_y": null,
      "padding": null,
      "right": null,
      "top": null,
      "visibility": null,
      "width": null
     }
    },
    "aaa811cc416e4d3ca314244755975667": {
     "model_module": "@jupyter-widgets/controls",
     "model_name": "ProgressStyleModel",
     "state": {
      "_model_module": "@jupyter-widgets/controls",
      "_model_module_version": "1.5.0",
      "_model_name": "ProgressStyleModel",
      "_view_count": null,
      "_view_module": "@jupyter-widgets/base",
      "_view_module_version": "1.2.0",
      "_view_name": "StyleView",
      "bar_color": null,
      "description_width": "initial"
     }
    },
    "b73c51b4a0774c468a4d7f9eaae4dba4": {
     "model_module": "@jupyter-widgets/controls",
     "model_name": "ProgressStyleModel",
     "state": {
      "_model_module": "@jupyter-widgets/controls",
      "_model_module_version": "1.5.0",
      "_model_name": "ProgressStyleModel",
      "_view_count": null,
      "_view_module": "@jupyter-widgets/base",
      "_view_module_version": "1.2.0",
      "_view_name": "StyleView",
      "bar_color": null,
      "description_width": "initial"
     }
    },
    "cb5c553b175c4d0e8db9c7026680fd7c": {
     "model_module": "@jupyter-widgets/controls",
     "model_name": "HBoxModel",
     "state": {
      "_dom_classes": [],
      "_model_module": "@jupyter-widgets/controls",
      "_model_module_version": "1.5.0",
      "_model_name": "HBoxModel",
      "_view_count": null,
      "_view_module": "@jupyter-widgets/controls",
      "_view_module_version": "1.5.0",
      "_view_name": "HBoxView",
      "box_style": "",
      "children": [
       "IPY_MODEL_f02946376d5d4cb3a6e308cfaed61aed",
       "IPY_MODEL_109b5c7468e4409795c09a77e0fc6ed3"
      ],
      "layout": "IPY_MODEL_19af7e196cf34082904644e841bada13"
     }
    },
    "e8fa4ff5c8ab401d9a692bfe701271c8": {
     "model_module": "@jupyter-widgets/base",
     "model_name": "LayoutModel",
     "state": {
      "_model_module": "@jupyter-widgets/base",
      "_model_module_version": "1.2.0",
      "_model_name": "LayoutModel",
      "_view_count": null,
      "_view_module": "@jupyter-widgets/base",
      "_view_module_version": "1.2.0",
      "_view_name": "LayoutView",
      "align_content": null,
      "align_items": null,
      "align_self": null,
      "border": null,
      "bottom": null,
      "display": null,
      "flex": null,
      "flex_flow": null,
      "grid_area": null,
      "grid_auto_columns": null,
      "grid_auto_flow": null,
      "grid_auto_rows": null,
      "grid_column": null,
      "grid_gap": null,
      "grid_row": null,
      "grid_template_areas": null,
      "grid_template_columns": null,
      "grid_template_rows": null,
      "height": null,
      "justify_content": null,
      "justify_items": null,
      "left": null,
      "margin": null,
      "max_height": null,
      "max_width": null,
      "min_height": null,
      "min_width": null,
      "object_fit": null,
      "object_position": null,
      "order": null,
      "overflow": null,
      "overflow_x": null,
      "overflow_y": null,
      "padding": null,
      "right": null,
      "top": null,
      "visibility": null,
      "width": null
     }
    },
    "f02946376d5d4cb3a6e308cfaed61aed": {
     "model_module": "@jupyter-widgets/controls",
     "model_name": "FloatProgressModel",
     "state": {
      "_dom_classes": [],
      "_model_module": "@jupyter-widgets/controls",
      "_model_module_version": "1.5.0",
      "_model_name": "FloatProgressModel",
      "_view_count": null,
      "_view_module": "@jupyter-widgets/controls",
      "_view_module_version": "1.5.0",
      "_view_name": "ProgressView",
      "bar_style": "success",
      "description": "100%",
      "description_tooltip": null,
      "layout": "IPY_MODEL_682f6df417364477bdf51ad990ec5597",
      "max": 3,
      "min": 0,
      "orientation": "horizontal",
      "style": "IPY_MODEL_aaa811cc416e4d3ca314244755975667",
      "value": 3
     }
    }
   }
  }
 },
 "nbformat": 4,
 "nbformat_minor": 4
}
